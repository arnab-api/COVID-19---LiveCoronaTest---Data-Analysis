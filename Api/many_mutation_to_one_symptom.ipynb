{
 "cells": [
  {
   "cell_type": "markdown",
   "source": [
    "# Read Clade Data"
   ],
   "metadata": {
    "id": "greater-occasions"
   }
  },
  {
   "cell_type": "code",
   "execution_count": 50,
   "source": [
    "import pandas as pd\n",
    "import numpy as np\n",
    "import matplotlib.pyplot as plt"
   ],
   "outputs": [],
   "metadata": {
    "id": "intensive-trust"
   }
  },
  {
   "cell_type": "code",
   "execution_count": 51,
   "source": [
    "# from google.colab import drive\n",
    "# drive.mount('/content/drive')"
   ],
   "outputs": [],
   "metadata": {
    "colab": {
     "base_uri": "https://localhost:8080/"
    },
    "id": "ScTdQj07fUD9",
    "outputId": "0db19179-d1ff-4a2e-8649-0381c3b47b6d"
   }
  },
  {
   "cell_type": "code",
   "execution_count": 52,
   "source": [
    "# ! ls /content/drive/MyDrive/COVID__DataAnalysis"
   ],
   "outputs": [],
   "metadata": {
    "colab": {
     "base_uri": "https://localhost:8080/"
    },
    "id": "5LqpUVIdfZuj",
    "outputId": "03f173a9-1e6e-4850-be85-398baddb4227"
   }
  },
  {
   "cell_type": "code",
   "execution_count": 53,
   "source": [
    "colab_path = \"/content/drive/MyDrive/COVID__DataAnalysis\"\n",
    "local_path = \"..\"\n",
    "\n",
    "path = local_path"
   ],
   "outputs": [],
   "metadata": {
    "id": "sQwJtcnffgxi"
   }
  },
  {
   "cell_type": "code",
   "execution_count": 54,
   "source": [
    "clade_df = pd.read_csv(path + \"/June_mutation_freq.csv\")\n",
    "clade_df.head()"
   ],
   "outputs": [
    {
     "output_type": "execute_result",
     "data": {
      "text/html": [
       "<div>\n",
       "<style scoped>\n",
       "    .dataframe tbody tr th:only-of-type {\n",
       "        vertical-align: middle;\n",
       "    }\n",
       "\n",
       "    .dataframe tbody tr th {\n",
       "        vertical-align: top;\n",
       "    }\n",
       "\n",
       "    .dataframe thead th {\n",
       "        text-align: right;\n",
       "    }\n",
       "</style>\n",
       "<table border=\"1\" class=\"dataframe\">\n",
       "  <thead>\n",
       "    <tr style=\"text-align: right;\">\n",
       "      <th></th>\n",
       "      <th>month</th>\n",
       "      <th>mutation</th>\n",
       "      <th>count</th>\n",
       "      <th>frequency</th>\n",
       "    </tr>\n",
       "  </thead>\n",
       "  <tbody>\n",
       "    <tr>\n",
       "      <th>0</th>\n",
       "      <td>2020-04</td>\n",
       "      <td>M:A2V</td>\n",
       "      <td>8</td>\n",
       "      <td>0.015066</td>\n",
       "    </tr>\n",
       "    <tr>\n",
       "      <th>1</th>\n",
       "      <td>2020-04</td>\n",
       "      <td>N:D377G</td>\n",
       "      <td>15</td>\n",
       "      <td>0.028249</td>\n",
       "    </tr>\n",
       "    <tr>\n",
       "      <th>2</th>\n",
       "      <td>2020-04</td>\n",
       "      <td>N:E367K</td>\n",
       "      <td>1</td>\n",
       "      <td>0.001883</td>\n",
       "    </tr>\n",
       "    <tr>\n",
       "      <th>3</th>\n",
       "      <td>2020-04</td>\n",
       "      <td>N:G204R</td>\n",
       "      <td>57</td>\n",
       "      <td>0.107345</td>\n",
       "    </tr>\n",
       "    <tr>\n",
       "      <th>4</th>\n",
       "      <td>2020-04</td>\n",
       "      <td>N:M210I</td>\n",
       "      <td>2</td>\n",
       "      <td>0.003766</td>\n",
       "    </tr>\n",
       "  </tbody>\n",
       "</table>\n",
       "</div>"
      ],
      "text/plain": [
       "     month mutation  count  frequency\n",
       "0  2020-04    M:A2V      8   0.015066\n",
       "1  2020-04  N:D377G     15   0.028249\n",
       "2  2020-04  N:E367K      1   0.001883\n",
       "3  2020-04  N:G204R     57   0.107345\n",
       "4  2020-04  N:M210I      2   0.003766"
      ]
     },
     "metadata": {},
     "execution_count": 54
    }
   ],
   "metadata": {
    "colab": {
     "base_uri": "https://localhost:8080/",
     "height": 203
    },
    "id": "honey-saver",
    "outputId": "3d3ab273-d6ab-44c5-e506-055da25f6954"
   }
  },
  {
   "cell_type": "code",
   "execution_count": 55,
   "source": [
    "clade_df.shape"
   ],
   "outputs": [
    {
     "output_type": "execute_result",
     "data": {
      "text/plain": [
       "(2903, 4)"
      ]
     },
     "metadata": {},
     "execution_count": 55
    }
   ],
   "metadata": {
    "colab": {
     "base_uri": "https://localhost:8080/"
    },
    "id": "above-measure",
    "outputId": "10b773f5-ecf7-4221-acac-d43e6c16cba8"
   }
  },
  {
   "cell_type": "code",
   "execution_count": 56,
   "source": [
    "mutation_arr = set(list(clade_df['mutation']))\n",
    "len(mutation_arr)"
   ],
   "outputs": [
    {
     "output_type": "execute_result",
     "data": {
      "text/plain": [
       "1711"
      ]
     },
     "metadata": {},
     "execution_count": 56
    }
   ],
   "metadata": {
    "colab": {
     "base_uri": "https://localhost:8080/"
    },
    "id": "organized-single",
    "outputId": "a3bf7d90-fc1f-479c-ebe0-09b494c531c6"
   }
  },
  {
   "cell_type": "code",
   "execution_count": 57,
   "source": [
    "clade_6month = pd.read_csv(path + \"/June_mutation_freq_6months.csv\")\n",
    "clade_6month.head()"
   ],
   "outputs": [
    {
     "output_type": "execute_result",
     "data": {
      "text/html": [
       "<div>\n",
       "<style scoped>\n",
       "    .dataframe tbody tr th:only-of-type {\n",
       "        vertical-align: middle;\n",
       "    }\n",
       "\n",
       "    .dataframe tbody tr th {\n",
       "        vertical-align: top;\n",
       "    }\n",
       "\n",
       "    .dataframe thead th {\n",
       "        text-align: right;\n",
       "    }\n",
       "</style>\n",
       "<table border=\"1\" class=\"dataframe\">\n",
       "  <thead>\n",
       "    <tr style=\"text-align: right;\">\n",
       "      <th></th>\n",
       "      <th>mutation</th>\n",
       "      <th>number_month</th>\n",
       "    </tr>\n",
       "  </thead>\n",
       "  <tbody>\n",
       "    <tr>\n",
       "      <th>0</th>\n",
       "      <td>N:G204R</td>\n",
       "      <td>14</td>\n",
       "    </tr>\n",
       "    <tr>\n",
       "      <th>1</th>\n",
       "      <td>N:R203K</td>\n",
       "      <td>14</td>\n",
       "    </tr>\n",
       "    <tr>\n",
       "      <th>2</th>\n",
       "      <td>ORF1b:P314L</td>\n",
       "      <td>14</td>\n",
       "    </tr>\n",
       "    <tr>\n",
       "      <th>3</th>\n",
       "      <td>S:D614G</td>\n",
       "      <td>14</td>\n",
       "    </tr>\n",
       "    <tr>\n",
       "      <th>4</th>\n",
       "      <td>ORF3a:Q57H</td>\n",
       "      <td>13</td>\n",
       "    </tr>\n",
       "  </tbody>\n",
       "</table>\n",
       "</div>"
      ],
      "text/plain": [
       "      mutation  number_month\n",
       "0      N:G204R            14\n",
       "1      N:R203K            14\n",
       "2  ORF1b:P314L            14\n",
       "3      S:D614G            14\n",
       "4   ORF3a:Q57H            13"
      ]
     },
     "metadata": {},
     "execution_count": 57
    }
   ],
   "metadata": {
    "colab": {
     "base_uri": "https://localhost:8080/",
     "height": 203
    },
    "id": "partial-climb",
    "outputId": "3cd74c6c-2de0-425f-bebf-b5f722160672"
   }
  },
  {
   "cell_type": "code",
   "execution_count": 58,
   "source": [
    "clade_6month_list = list(clade_6month['mutation'])\n",
    "len(clade_6month_list)"
   ],
   "outputs": [
    {
     "output_type": "execute_result",
     "data": {
      "text/plain": [
       "53"
      ]
     },
     "metadata": {},
     "execution_count": 58
    }
   ],
   "metadata": {
    "colab": {
     "base_uri": "https://localhost:8080/"
    },
    "id": "lightweight-denver",
    "outputId": "3b791e21-7412-4eb8-b26a-e5518d5238fb"
   }
  },
  {
   "cell_type": "code",
   "execution_count": 59,
   "source": [
    "clade_info = {}\n",
    "\n",
    "for index, row in clade_df.iterrows():\n",
    "#     mutation_name = row['mutation'].split(\":\")[0]\n",
    "    mutation_name = row['mutation']\n",
    "    if(mutation_name not in clade_6month_list):    # filter out all the short lived mutations\n",
    "        continue     \n",
    "    \n",
    "    month = row['month']\n",
    "    if(mutation_name not in clade_info):\n",
    "        clade_info[mutation_name] = {}\n",
    "    if(month not in clade_info[mutation_name]):\n",
    "        clade_info[mutation_name][month] = 0\n",
    "    clade_info[mutation_name][month] += row[\"frequency\"]"
   ],
   "outputs": [],
   "metadata": {
    "id": "exceptional-terrain"
   }
  },
  {
   "cell_type": "code",
   "execution_count": 60,
   "source": [
    "# clade_info"
   ],
   "outputs": [],
   "metadata": {
    "id": "outdoor-stanford"
   }
  },
  {
   "cell_type": "code",
   "execution_count": 61,
   "source": [
    "month_arr = list(set(list(clade_df['month'])))\n",
    "month_arr = sorted(month_arr)"
   ],
   "outputs": [],
   "metadata": {
    "id": "lonely-webster"
   }
  },
  {
   "cell_type": "code",
   "execution_count": 62,
   "source": [
    "mutation_freq_arr = {}\n",
    "\n",
    "for mutation in clade_info:\n",
    "    mutation_freq_arr[mutation] = np.zeros(len(month_arr))\n",
    "    for i in range(len(month_arr)):\n",
    "        month = month_arr[i]\n",
    "        if(month in clade_info[mutation]):\n",
    "            mutation_freq_arr[mutation][i] = clade_info[mutation][month]"
   ],
   "outputs": [],
   "metadata": {
    "id": "quarterly-numbers"
   }
  },
  {
   "cell_type": "code",
   "execution_count": 63,
   "source": [
    "# print(month_arr)\n",
    "# mutation_freq_arr"
   ],
   "outputs": [],
   "metadata": {
    "id": "qualified-costs"
   }
  },
  {
   "cell_type": "code",
   "execution_count": 66,
   "source": [
    "plt.rcParams[\"figure.figsize\"] = (20,10)\n",
    "\n",
    "# limit = 14\n",
    "# plt.plot(month_arr[:limit], x, label=\"X\")\n",
    "# plt.plot(month_arr[:limit], y, label=\"Y\")\n",
    "# plt.legend(loc=\"upper right\")\n",
    "\n",
    "for mutation in mutation_freq_arr:\n",
    "    plt.plot(month_arr, mutation_freq_arr[mutation], label=mutation)\n",
    "\n",
    "# plt.legend(loc=\"upper right\")\n",
    "plt.show()"
   ],
   "outputs": [
    {
     "output_type": "display_data",
     "data": {
      "image/png": "[encoded data removed]",
      "text/plain": [
       "<Figure size 1440x720 with 1 Axes>"
      ]
     },
     "metadata": {
      "needs_background": "light"
     }
    }
   ],
   "metadata": {
    "colab": {
     "base_uri": "https://localhost:8080/",
     "height": 592
    },
    "id": "irish-gnome",
    "outputId": "ff82d885-4c4e-4428-cab7-b21f759a3199"
   }
  },
  {
   "cell_type": "code",
   "execution_count": 67,
   "source": [
    "import plotly.graph_objects as go\n",
    "\n",
    "fig = go.Figure()\n",
    "for mutation in mutation_freq_arr:\n",
    "    # plt.plot(month_arr, mutation_freq_arr[mutation], label=mutation)\n",
    "    fig.add_trace(\n",
    "        go.Scatter(\n",
    "            x=month_arr,\n",
    "            y=mutation_freq_arr[mutation],\n",
    "            name=mutation\n",
    "        ))\n",
    "fig.update_xaxes(type='category')\n",
    "\n",
    "fig.update_layout(\n",
    "    autosize=False,\n",
    "    width=1400,\n",
    "    height=1000,)\n",
    "fig.update_layout(legend=dict(\n",
    "    orientation=\"h\",\n",
    "    yanchor=\"bottom\",\n",
    "    y=-0.4,\n",
    "    xanchor=\"right\",\n",
    "    x=1\n",
    "))\n",
    "\n",
    "fig.update_layout(font=dict(size=15))\n",
    "fig.show()"
   ],
   "outputs": [
    {
     "output_type": "display_data",
     "data": {
      "application/vnd.plotly.v1+json": {
       "config": {
        "plotlyServerURL": "https://plot.ly"
       },
       "data": [
        {
         "name": "N:G204R",
         "type": "scatter",
         "x": [
          "2020-04",
          "2020-05",
          "2020-06",
          "2020-07",
          "2020-08",
          "2020-09",
          "2020-10",
          "2020-11",
          "2020-12",
          "2021-01",
          "2021-02",
          "2021-03",
          "2021-04",
          "2021-05"
         ],
         "y": [
          0.107344632768362,
          0.117117117117117,
          0.126688102893891,
          0.121761658031088,
          0.120689655172414,
          0.139130434782609,
          0.0878186968838527,
          0.0895196506550218,
          0.0809090909090909,
          0.0716332378223496,
          0.0396158463385354,
          0.0129950495049505,
          0.0056689342403628,
          0.0053763440860215
         ]
        },
        {
         "name": "N:R203K",
         "type": "scatter",
         "x": [
          "2020-04",
          "2020-05",
          "2020-06",
          "2020-07",
          "2020-08",
          "2020-09",
          "2020-10",
          "2020-11",
          "2020-12",
          "2021-01",
          "2021-02",
          "2021-03",
          "2021-04",
          "2021-05"
         ],
         "y": [
          0.107344632768362,
          0.117117117117117,
          0.126688102893891,
          0.121761658031088,
          0.120689655172414,
          0.139130434782609,
          0.0878186968838527,
          0.0895196506550218,
          0.0809090909090909,
          0.0716332378223496,
          0.0396158463385354,
          0.0133044554455446,
          0.0056689342403628,
          0.0053763440860215
         ]
        },
        {
         "name": "ORF1a:I300F",
         "type": "scatter",
         "x": [
          "2020-04",
          "2020-05",
          "2020-06",
          "2020-07",
          "2020-08",
          "2020-09",
          "2020-10",
          "2020-11",
          "2020-12",
          "2021-01",
          "2021-02",
          "2021-03",
          "2021-04",
          "2021-05"
         ],
         "y": [
          0.0828625235404896,
          0.114543114543115,
          0.113826366559486,
          0.110103626943005,
          0.0827586206896552,
          0.0739130434782609,
          0.084985835694051,
          0.0938864628820961,
          0.0781818181818182,
          0.0592168099331423,
          0.014405762304922,
          0.0040222772277227,
          0,
          0
         ]
        },
        {
         "name": "ORF1b:P314L",
         "type": "scatter",
         "x": [
          "2020-04",
          "2020-05",
          "2020-06",
          "2020-07",
          "2020-08",
          "2020-09",
          "2020-10",
          "2020-11",
          "2020-12",
          "2021-01",
          "2021-02",
          "2021-03",
          "2021-04",
          "2021-05"
         ],
         "y": [
          0.135593220338983,
          0.144144144144144,
          0.139549839228296,
          0.134067357512953,
          0.1,
          0.091304347826087,
          0.110481586402266,
          0.100436681222707,
          0.0845454545454545,
          0.0744985673352436,
          0.0516206482593037,
          0.0448638613861386,
          0.0445011337868481,
          0.0397849462365591
         ]
        },
        {
         "name": "ORF3a:K75N",
         "type": "scatter",
         "x": [
          "2020-04",
          "2020-05",
          "2020-06",
          "2020-07",
          "2020-08",
          "2020-09",
          "2020-10",
          "2020-11",
          "2020-12",
          "2021-01",
          "2021-02",
          "2021-03",
          "2021-04",
          "2021-05"
         ],
         "y": [
          0.0018832391713747,
          0.0012870012870012,
          0.0006430868167202,
          0.0006476683937823,
          0,
          0.0043478260869565,
          0,
          0,
          0.0009090909090909,
          0,
          0,
          0,
          0,
          0
         ]
        },
        {
         "name": "ORF3a:T151I",
         "type": "scatter",
         "x": [
          "2020-04",
          "2020-05",
          "2020-06",
          "2020-07",
          "2020-08",
          "2020-09",
          "2020-10",
          "2020-11",
          "2020-12",
          "2021-01",
          "2021-02",
          "2021-03",
          "2021-04",
          "2021-05"
         ],
         "y": [
          0.0018832391713747,
          0.0012870012870012,
          0.0006430868167202,
          0,
          0,
          0,
          0,
          0.0043668122270742,
          0,
          0,
          0.0012004801920768,
          0.000309405940594,
          0.0014172335600907,
          0
         ]
        },
        {
         "name": "S:D614G",
         "type": "scatter",
         "x": [
          "2020-04",
          "2020-05",
          "2020-06",
          "2020-07",
          "2020-08",
          "2020-09",
          "2020-10",
          "2020-11",
          "2020-12",
          "2021-01",
          "2021-02",
          "2021-03",
          "2021-04",
          "2021-05"
         ],
         "y": [
          0.154425612052731,
          0.144144144144144,
          0.141479099678457,
          0.136658031088083,
          0.113793103448276,
          0.1,
          0.118980169971671,
          0.102620087336245,
          0.0854545454545454,
          0.0744985673352436,
          0.0516206482593037,
          0.0476485148514851,
          0.0464852607709751,
          0.0397849462365591
         ]
        },
        {
         "name": "S:G75V",
         "type": "scatter",
         "x": [
          "2020-04",
          "2020-05",
          "2020-06",
          "2020-07",
          "2020-08",
          "2020-09",
          "2020-10",
          "2020-11",
          "2020-12",
          "2021-01",
          "2021-02",
          "2021-03",
          "2021-04",
          "2021-05"
         ],
         "y": [
          0.0018832391713747,
          0.0012870012870012,
          0.0006430868167202,
          0,
          0,
          0,
          0,
          0,
          0.0009090909090909,
          0.0019102196752626,
          0.0012004801920768,
          0,
          0,
          0
         ]
        },
        {
         "name": "N:S194L",
         "type": "scatter",
         "x": [
          "2020-04",
          "2020-05",
          "2020-06",
          "2020-07",
          "2020-08",
          "2020-09",
          "2020-10",
          "2020-11",
          "2020-12",
          "2021-01",
          "2021-02",
          "2021-03",
          "2021-04",
          "2021-05"
         ],
         "y": [
          0,
          0.0102960102960103,
          0.0102893890675241,
          0.0129533678756477,
          0.0137931034482759,
          0.008695652173913,
          0.0169971671388102,
          0.0065502183406113,
          0.0036363636363636,
          0,
          0,
          0,
          0,
          0
         ]
        },
        {
         "name": "ORF1a:A3209V",
         "type": "scatter",
         "x": [
          "2020-04",
          "2020-05",
          "2020-06",
          "2020-07",
          "2020-08",
          "2020-09",
          "2020-10",
          "2020-11",
          "2020-12",
          "2021-01",
          "2021-02",
          "2021-03",
          "2021-04",
          "2021-05"
         ],
         "y": [
          0,
          0.0012870012870012,
          0,
          0,
          0,
          0,
          0,
          0,
          0.0009090909090909,
          0,
          0.0024009603841536,
          0.0012376237623762,
          0.0039682539682539,
          0.0236559139784946
         ]
        },
        {
         "name": "ORF1a:K3353R",
         "type": "scatter",
         "x": [
          "2020-04",
          "2020-05",
          "2020-06",
          "2020-07",
          "2020-08",
          "2020-09",
          "2020-10",
          "2020-11",
          "2020-12",
          "2021-01",
          "2021-02",
          "2021-03",
          "2021-04",
          "2021-05"
         ],
         "y": [
          0,
          0.0025740025740025,
          0.002572347266881,
          0.0032383419689119,
          0.0034482758620689,
          0.0043478260869565,
          0.0056657223796034,
          0,
          0.0018181818181818,
          0.0038204393505253,
          0.0120048019207683,
          0.0324876237623762,
          0.0374149659863946,
          0.0139784946236559
         ]
        },
        {
         "name": "ORF1a:L3606F",
         "type": "scatter",
         "x": [
          "2020-04",
          "2020-05",
          "2020-06",
          "2020-07",
          "2020-08",
          "2020-09",
          "2020-10",
          "2020-11",
          "2020-12",
          "2021-01",
          "2021-02",
          "2021-03",
          "2021-04",
          "2021-05"
         ],
         "y": [
          0,
          0.0025740025740025,
          0.0070739549839228,
          0.0012953367875647,
          0.0137931034482759,
          0.008695652173913,
          0.0028328611898017,
          0.0021834061135371,
          0,
          0.0019102196752626,
          0,
          0.0006188118811881,
          0.0002834467120181,
          0
         ]
        },
        {
         "name": "ORF1a:T265I",
         "type": "scatter",
         "x": [
          "2020-04",
          "2020-05",
          "2020-06",
          "2020-07",
          "2020-08",
          "2020-09",
          "2020-10",
          "2020-11",
          "2020-12",
          "2021-01",
          "2021-02",
          "2021-03",
          "2021-04",
          "2021-05"
         ],
         "y": [
          0,
          0.0012870012870012,
          0,
          0,
          0,
          0,
          0,
          0,
          0,
          0.0019102196752626,
          0.0096038415366146,
          0.0321782178217822,
          0.0374149659863946,
          0.0139784946236559
         ]
        },
        {
         "name": "ORF1b:R2257S",
         "type": "scatter",
         "x": [
          "2020-04",
          "2020-05",
          "2020-06",
          "2020-07",
          "2020-08",
          "2020-09",
          "2020-10",
          "2020-11",
          "2020-12",
          "2021-01",
          "2021-02",
          "2021-03",
          "2021-04",
          "2021-05"
         ],
         "y": [
          0,
          0.0012870012870012,
          0.0012861736334405,
          0.005181347150259,
          0.0103448275862069,
          0.0130434782608696,
          0.0198300283286119,
          0.0218340611353712,
          0.0209090909090909,
          0.0114613180515759,
          0.0036014405762304,
          0.000309405940594,
          0,
          0
         ]
        },
        {
         "name": "ORF3a:D155Y",
         "type": "scatter",
         "x": [
          "2020-04",
          "2020-05",
          "2020-06",
          "2020-07",
          "2020-08",
          "2020-09",
          "2020-10",
          "2020-11",
          "2020-12",
          "2021-01",
          "2021-02",
          "2021-03",
          "2021-04",
          "2021-05"
         ],
         "y": [
          0,
          0.0012870012870012,
          0.0012861736334405,
          0.0025906735751295,
          0,
          0,
          0,
          0,
          0.0018181818181818,
          0.0009551098376313,
          0,
          0.000309405940594,
          0,
          0
         ]
        },
        {
         "name": "ORF3a:Q57H",
         "type": "scatter",
         "x": [
          "2020-04",
          "2020-05",
          "2020-06",
          "2020-07",
          "2020-08",
          "2020-09",
          "2020-10",
          "2020-11",
          "2020-12",
          "2021-01",
          "2021-02",
          "2021-03",
          "2021-04",
          "2021-05"
         ],
         "y": [
          0,
          0.0141570141570142,
          0.0109324758842444,
          0.0148963730569948,
          0.0137931034482759,
          0.008695652173913,
          0.0169971671388102,
          0.0065502183406113,
          0.0045454545454545,
          0.0028653295128939,
          0.0120048019207683,
          0.0321782178217822,
          0.0371315192743764,
          0.0139784946236559
         ]
        },
        {
         "name": "ORF3a:S171L",
         "type": "scatter",
         "x": [
          "2020-04",
          "2020-05",
          "2020-06",
          "2020-07",
          "2020-08",
          "2020-09",
          "2020-10",
          "2020-11",
          "2020-12",
          "2021-01",
          "2021-02",
          "2021-03",
          "2021-04",
          "2021-05"
         ],
         "y": [
          0,
          0.0012870012870012,
          0.0038585209003215,
          0.0058290155440414,
          0.0137931034482759,
          0.0130434782608696,
          0.0226628895184136,
          0.0240174672489083,
          0.0190909090909091,
          0.0124164278892073,
          0.0132052821128451,
          0.0324876237623762,
          0.0368480725623583,
          0.0139784946236559
         ]
        },
        {
         "name": "ORF8:E106*",
         "type": "scatter",
         "x": [
          "2020-04",
          "2020-05",
          "2020-06",
          "2020-07",
          "2020-08",
          "2020-09",
          "2020-10",
          "2020-11",
          "2020-12",
          "2021-01",
          "2021-02",
          "2021-03",
          "2021-04",
          "2021-05"
         ],
         "y": [
          0,
          0.0012870012870012,
          0,
          0,
          0,
          0,
          0,
          0,
          0.0009090909090909,
          0,
          0.0012004801920768,
          0.0012376237623762,
          0.0025510204081632,
          0.0053763440860215
         ]
        },
        {
         "name": "S:L5F",
         "type": "scatter",
         "x": [
          "2020-04",
          "2020-05",
          "2020-06",
          "2020-07",
          "2020-08",
          "2020-09",
          "2020-10",
          "2020-11",
          "2020-12",
          "2021-01",
          "2021-02",
          "2021-03",
          "2021-04",
          "2021-05"
         ],
         "y": [
          0,
          0.0012870012870012,
          0.0057877813504823,
          0.0032383419689119,
          0,
          0,
          0,
          0.0065502183406113,
          0,
          0,
          0.0012004801920768,
          0.000309405940594,
          0.0008503401360544,
          0
         ]
        },
        {
         "name": "S:T95I",
         "type": "scatter",
         "x": [
          "2020-04",
          "2020-05",
          "2020-06",
          "2020-07",
          "2020-08",
          "2020-09",
          "2020-10",
          "2020-11",
          "2020-12",
          "2021-01",
          "2021-02",
          "2021-03",
          "2021-04",
          "2021-05"
         ],
         "y": [
          0,
          0.0025740025740025,
          0.0019292604501607,
          0,
          0,
          0,
          0,
          0.0021834061135371,
          0.0009090909090909,
          0.0009551098376313,
          0.0012004801920768,
          0.0015470297029703,
          0.0025510204081632,
          0.0043010752688172
         ]
        },
        {
         "name": "N:D377Y",
         "type": "scatter",
         "x": [
          "2020-04",
          "2020-05",
          "2020-06",
          "2020-07",
          "2020-08",
          "2020-09",
          "2020-10",
          "2020-11",
          "2020-12",
          "2021-01",
          "2021-02",
          "2021-03",
          "2021-04",
          "2021-05"
         ],
         "y": [
          0,
          0,
          0.0012861736334405,
          0.0012953367875647,
          0,
          0,
          0.0028328611898017,
          0.0021834061135371,
          0,
          0,
          0,
          0,
          0.0019841269841269,
          0.0182795698924731
         ]
        },
        {
         "name": "ORF1a:E57K",
         "type": "scatter",
         "x": [
          "2020-04",
          "2020-05",
          "2020-06",
          "2020-07",
          "2020-08",
          "2020-09",
          "2020-10",
          "2020-11",
          "2020-12",
          "2021-01",
          "2021-02",
          "2021-03",
          "2021-04",
          "2021-05"
         ],
         "y": [
          0,
          0,
          0.005144694533762,
          0,
          0.0034482758620689,
          0,
          0.0169971671388102,
          0.0305676855895196,
          0.0290909090909091,
          0.0362941738299905,
          0.0048019207683073,
          0.0030940594059405,
          0,
          0
         ]
        },
        {
         "name": "ORF1a:P2046L",
         "type": "scatter",
         "x": [
          "2020-04",
          "2020-05",
          "2020-06",
          "2020-07",
          "2020-08",
          "2020-09",
          "2020-10",
          "2020-11",
          "2020-12",
          "2021-01",
          "2021-02",
          "2021-03",
          "2021-04",
          "2021-05"
         ],
         "y": [
          0,
          0,
          0.0006430868167202,
          0.0006476683937823,
          0.0103448275862069,
          0,
          0,
          0,
          0,
          0.0019102196752626,
          0.0096038415366146,
          0.0309405940594059,
          0.0337301587301587,
          0.0139784946236559
         ]
        },
        {
         "name": "ORF1b:L1351F",
         "type": "scatter",
         "x": [
          "2020-04",
          "2020-05",
          "2020-06",
          "2020-07",
          "2020-08",
          "2020-09",
          "2020-10",
          "2020-11",
          "2020-12",
          "2021-01",
          "2021-02",
          "2021-03",
          "2021-04",
          "2021-05"
         ],
         "y": [
          0,
          0,
          0.002572347266881,
          0.0025906735751295,
          0.0034482758620689,
          0,
          0.0028328611898017,
          0.0021834061135371,
          0,
          0.0009551098376313,
          0,
          0,
          0,
          0
         ]
        },
        {
         "name": "S:P681R",
         "type": "scatter",
         "x": [
          "2020-04",
          "2020-05",
          "2020-06",
          "2020-07",
          "2020-08",
          "2020-09",
          "2020-10",
          "2020-11",
          "2020-12",
          "2021-01",
          "2021-02",
          "2021-03",
          "2021-04",
          "2021-05"
         ],
         "y": [
          0,
          0,
          0.005144694533762,
          0,
          0.0034482758620689,
          0,
          0.0311614730878187,
          0.037117903930131,
          0.0445454545454545,
          0.0448901623686724,
          0.0084033613445378,
          0.0037128712871287,
          0.0019841269841269,
          0.0204301075268817
         ]
        },
        {
         "name": "S:Q675H",
         "type": "scatter",
         "x": [
          "2020-04",
          "2020-05",
          "2020-06",
          "2020-07",
          "2020-08",
          "2020-09",
          "2020-10",
          "2020-11",
          "2020-12",
          "2021-01",
          "2021-02",
          "2021-03",
          "2021-04",
          "2021-05"
         ],
         "y": [
          0,
          0,
          0.0006430868167202,
          0.0025906735751295,
          0,
          0.0043478260869565,
          0,
          0.0021834061135371,
          0.01,
          0.0038204393505253,
          0.0012004801920768,
          0,
          0.0002834467120181,
          0
         ]
        },
        {
         "name": "S:Q677H",
         "type": "scatter",
         "x": [
          "2020-04",
          "2020-05",
          "2020-06",
          "2020-07",
          "2020-08",
          "2020-09",
          "2020-10",
          "2020-11",
          "2020-12",
          "2021-01",
          "2021-02",
          "2021-03",
          "2021-04",
          "2021-05"
         ],
         "y": [
          0,
          0,
          0.0019292604501607,
          0.0006476683937823,
          0.0068965517241379,
          0.008695652173913,
          0.0056657223796034,
          0.0021834061135371,
          0.0009090909090909,
          0,
          0,
          0.0021658415841584,
          0.0014172335600907,
          0
         ]
        },
        {
         "name": "S:V143F",
         "type": "scatter",
         "x": [
          "2020-04",
          "2020-05",
          "2020-06",
          "2020-07",
          "2020-08",
          "2020-09",
          "2020-10",
          "2020-11",
          "2020-12",
          "2021-01",
          "2021-02",
          "2021-03",
          "2021-04",
          "2021-05"
         ],
         "y": [
          0,
          0,
          0.0012861736334405,
          0,
          0,
          0,
          0,
          0,
          0.0009090909090909,
          0,
          0.0036014405762304,
          0.0027846534653465,
          0.0011337868480725,
          0.0010752688172043
         ]
        },
        {
         "name": "ORF1a:S610L",
         "type": "scatter",
         "x": [
          "2020-04",
          "2020-05",
          "2020-06",
          "2020-07",
          "2020-08",
          "2020-09",
          "2020-10",
          "2020-11",
          "2020-12",
          "2021-01",
          "2021-02",
          "2021-03",
          "2021-04",
          "2021-05"
         ],
         "y": [
          0,
          0,
          0,
          0.0019430051813471,
          0,
          0.0043478260869565,
          0.0198300283286119,
          0.0196506550218341,
          0.0154545454545455,
          0.0076408787010506,
          0.0048019207683073,
          0,
          0,
          0
         ]
        },
        {
         "name": "ORF8:E64*",
         "type": "scatter",
         "x": [
          "2020-04",
          "2020-05",
          "2020-06",
          "2020-07",
          "2020-08",
          "2020-09",
          "2020-10",
          "2020-11",
          "2020-12",
          "2021-01",
          "2021-02",
          "2021-03",
          "2021-04",
          "2021-05"
         ],
         "y": [
          0,
          0,
          0,
          0.0019430051813471,
          0.0034482758620689,
          0.008695652173913,
          0.0028328611898017,
          0.0021834061135371,
          0.0018181818181818,
          0,
          0,
          0,
          0,
          0
         ]
        },
        {
         "name": "S:L18F",
         "type": "scatter",
         "x": [
          "2020-04",
          "2020-05",
          "2020-06",
          "2020-07",
          "2020-08",
          "2020-09",
          "2020-10",
          "2020-11",
          "2020-12",
          "2021-01",
          "2021-02",
          "2021-03",
          "2021-04",
          "2021-05"
         ],
         "y": [
          0,
          0,
          0,
          0.0006476683937823,
          0.0034482758620689,
          0,
          0,
          0,
          0,
          0.0019102196752626,
          0.0108043217286915,
          0.0309405940594059,
          0.0331632653061225,
          0.0139784946236559
         ]
        },
        {
         "name": "ORF1a:R24C",
         "type": "scatter",
         "x": [
          "2020-04",
          "2020-05",
          "2020-06",
          "2020-07",
          "2020-08",
          "2020-09",
          "2020-10",
          "2020-11",
          "2020-12",
          "2021-01",
          "2021-02",
          "2021-03",
          "2021-04",
          "2021-05"
         ],
         "y": [
          0,
          0,
          0,
          0,
          0.0034482758620689,
          0,
          0.0084985835694051,
          0.0262008733624454,
          0.0109090909090909,
          0.0162368672397326,
          0.0060024009603841,
          0.0009282178217821,
          0,
          0
         ]
        },
        {
         "name": "ORF1a:K1230N",
         "type": "scatter",
         "x": [
          "2020-04",
          "2020-05",
          "2020-06",
          "2020-07",
          "2020-08",
          "2020-09",
          "2020-10",
          "2020-11",
          "2020-12",
          "2021-01",
          "2021-02",
          "2021-03",
          "2021-04",
          "2021-05"
         ],
         "y": [
          0,
          0,
          0,
          0,
          0,
          0,
          0.0084985835694051,
          0.0109170305676856,
          0.0127272727272727,
          0.0076408787010506,
          0.0012004801920768,
          0.000309405940594,
          0,
          0
         ]
        },
        {
         "name": "S:K417N",
         "type": "scatter",
         "x": [
          "2020-04",
          "2020-05",
          "2020-06",
          "2020-07",
          "2020-08",
          "2020-09",
          "2020-10",
          "2020-11",
          "2020-12",
          "2021-01",
          "2021-02",
          "2021-03",
          "2021-04",
          "2021-05"
         ],
         "y": [
          0,
          0,
          0,
          0,
          0,
          0,
          0.0028328611898017,
          0,
          0,
          0.0019102196752626,
          0.0096038415366146,
          0.0321782178217822,
          0.0374149659863946,
          0.0139784946236559
         ]
        },
        {
         "name": "ORF1b:M1197I",
         "type": "scatter",
         "x": [
          "2020-04",
          "2020-05",
          "2020-06",
          "2020-07",
          "2020-08",
          "2020-09",
          "2020-10",
          "2020-11",
          "2020-12",
          "2021-01",
          "2021-02",
          "2021-03",
          "2021-04",
          "2021-05"
         ],
         "y": [
          0,
          0,
          0,
          0,
          0,
          0,
          0,
          0.0021834061135371,
          0.0054545454545454,
          0.0124164278892073,
          0,
          0.0021658415841584,
          0.0002834467120181,
          0.0010752688172043
         ]
        },
        {
         "name": "S:A701V",
         "type": "scatter",
         "x": [
          "2020-04",
          "2020-05",
          "2020-06",
          "2020-07",
          "2020-08",
          "2020-09",
          "2020-10",
          "2020-11",
          "2020-12",
          "2021-01",
          "2021-02",
          "2021-03",
          "2021-04",
          "2021-05"
         ],
         "y": [
          0,
          0,
          0,
          0,
          0,
          0,
          0,
          0.0043668122270742,
          0.0009090909090909,
          0.0028653295128939,
          0.0096038415366146,
          0.0321782178217822,
          0.0371315192743764,
          0.0139784946236559
         ]
        },
        {
         "name": "S:P681H",
         "type": "scatter",
         "x": [
          "2020-04",
          "2020-05",
          "2020-06",
          "2020-07",
          "2020-08",
          "2020-09",
          "2020-10",
          "2020-11",
          "2020-12",
          "2021-01",
          "2021-02",
          "2021-03",
          "2021-04",
          "2021-05"
         ],
         "y": [
          0,
          0,
          0,
          0,
          0,
          0,
          0,
          0.0021834061135371,
          0.0045454545454545,
          0.0124164278892073,
          0.0228091236494598,
          0.0099009900990099,
          0.0053854875283446,
          0.0053763440860215
         ]
        },
        {
         "name": "N:D3L",
         "type": "scatter",
         "x": [
          "2020-04",
          "2020-05",
          "2020-06",
          "2020-07",
          "2020-08",
          "2020-09",
          "2020-10",
          "2020-11",
          "2020-12",
          "2021-01",
          "2021-02",
          "2021-03",
          "2021-04",
          "2021-05"
         ],
         "y": [
          0,
          0,
          0,
          0,
          0,
          0,
          0,
          0,
          0.0018181818181818,
          0.0114613180515759,
          0.021608643457383,
          0.0077351485148514,
          0.0028344671201814,
          0.0010752688172043
         ]
        },
        {
         "name": "N:M1X",
         "type": "scatter",
         "x": [
          "2020-04",
          "2020-05",
          "2020-06",
          "2020-07",
          "2020-08",
          "2020-09",
          "2020-10",
          "2020-11",
          "2020-12",
          "2021-01",
          "2021-02",
          "2021-03",
          "2021-04",
          "2021-05"
         ],
         "y": [
          0,
          0,
          0,
          0,
          0,
          0,
          0,
          0,
          0.0018181818181818,
          0.0105062082139446,
          0.0204081632653061,
          0.0068069306930693,
          0.0034013605442176,
          0.0182795698924731
         ]
        },
        {
         "name": "N:S235F",
         "type": "scatter",
         "x": [
          "2020-04",
          "2020-05",
          "2020-06",
          "2020-07",
          "2020-08",
          "2020-09",
          "2020-10",
          "2020-11",
          "2020-12",
          "2021-01",
          "2021-02",
          "2021-03",
          "2021-04",
          "2021-05"
         ],
         "y": [
          0,
          0,
          0,
          0,
          0,
          0,
          0,
          0,
          0.0009090909090909,
          0.0124164278892073,
          0.021608643457383,
          0.0080445544554455,
          0.0031179138321995,
          0.0010752688172043
         ]
        },
        {
         "name": "N:T205I",
         "type": "scatter",
         "x": [
          "2020-04",
          "2020-05",
          "2020-06",
          "2020-07",
          "2020-08",
          "2020-09",
          "2020-10",
          "2020-11",
          "2020-12",
          "2021-01",
          "2021-02",
          "2021-03",
          "2021-04",
          "2021-05"
         ],
         "y": [
          0,
          0,
          0,
          0,
          0,
          0,
          0,
          0,
          0.0009090909090909,
          0.0028653295128939,
          0.0120048019207683,
          0.0343440594059406,
          0.0385487528344671,
          0.0139784946236559
         ]
        },
        {
         "name": "ORF1a:A1708D",
         "type": "scatter",
         "x": [
          "2020-04",
          "2020-05",
          "2020-06",
          "2020-07",
          "2020-08",
          "2020-09",
          "2020-10",
          "2020-11",
          "2020-12",
          "2021-01",
          "2021-02",
          "2021-03",
          "2021-04",
          "2021-05"
         ],
         "y": [
          0,
          0,
          0,
          0,
          0,
          0,
          0,
          0,
          0.0018181818181818,
          0.0124164278892073,
          0.0228091236494598,
          0.0080445544554455,
          0.0031179138321995,
          0.0010752688172043
         ]
        },
        {
         "name": "ORF1a:T1001I",
         "type": "scatter",
         "x": [
          "2020-04",
          "2020-05",
          "2020-06",
          "2020-07",
          "2020-08",
          "2020-09",
          "2020-10",
          "2020-11",
          "2020-12",
          "2021-01",
          "2021-02",
          "2021-03",
          "2021-04",
          "2021-05"
         ],
         "y": [
          0,
          0,
          0,
          0,
          0,
          0,
          0,
          0,
          0.0018181818181818,
          0.0124164278892073,
          0.021608643457383,
          0.0080445544554455,
          0.0031179138321995,
          0.0010752688172043
         ]
        },
        {
         "name": "ORF8:D35Y",
         "type": "scatter",
         "x": [
          "2020-04",
          "2020-05",
          "2020-06",
          "2020-07",
          "2020-08",
          "2020-09",
          "2020-10",
          "2020-11",
          "2020-12",
          "2021-01",
          "2021-02",
          "2021-03",
          "2021-04",
          "2021-05"
         ],
         "y": [
          0,
          0,
          0,
          0,
          0,
          0,
          0,
          0,
          0.0009090909090909,
          0.0009551098376313,
          0.0108043217286915,
          0.0012376237623762,
          0.0002834467120181,
          0.0010752688172043
         ]
        },
        {
         "name": "ORF8:Q27*",
         "type": "scatter",
         "x": [
          "2020-04",
          "2020-05",
          "2020-06",
          "2020-07",
          "2020-08",
          "2020-09",
          "2020-10",
          "2020-11",
          "2020-12",
          "2021-01",
          "2021-02",
          "2021-03",
          "2021-04",
          "2021-05"
         ],
         "y": [
          0,
          0,
          0,
          0,
          0,
          0,
          0,
          0,
          0.0027272727272727,
          0.0124164278892073,
          0.0240096038415366,
          0.0086633663366336,
          0.0028344671201814,
          0.0010752688172043
         ]
        },
        {
         "name": "ORF8:R52I",
         "type": "scatter",
         "x": [
          "2020-04",
          "2020-05",
          "2020-06",
          "2020-07",
          "2020-08",
          "2020-09",
          "2020-10",
          "2020-11",
          "2020-12",
          "2021-01",
          "2021-02",
          "2021-03",
          "2021-04",
          "2021-05"
         ],
         "y": [
          0,
          0,
          0,
          0,
          0,
          0,
          0,
          0,
          0.0018181818181818,
          0.0124164278892073,
          0.0228091236494598,
          0.0083539603960396,
          0.0031179138321995,
          0.0010752688172043
         ]
        },
        {
         "name": "ORF8:Y73C",
         "type": "scatter",
         "x": [
          "2020-04",
          "2020-05",
          "2020-06",
          "2020-07",
          "2020-08",
          "2020-09",
          "2020-10",
          "2020-11",
          "2020-12",
          "2021-01",
          "2021-02",
          "2021-03",
          "2021-04",
          "2021-05"
         ],
         "y": [
          0,
          0,
          0,
          0,
          0,
          0,
          0,
          0,
          0.0018181818181818,
          0.0124164278892073,
          0.0228091236494598,
          0.0080445544554455,
          0.0031179138321995,
          0.0010752688172043
         ]
        },
        {
         "name": "S:A570D",
         "type": "scatter",
         "x": [
          "2020-04",
          "2020-05",
          "2020-06",
          "2020-07",
          "2020-08",
          "2020-09",
          "2020-10",
          "2020-11",
          "2020-12",
          "2021-01",
          "2021-02",
          "2021-03",
          "2021-04",
          "2021-05"
         ],
         "y": [
          0,
          0,
          0,
          0,
          0,
          0,
          0,
          0,
          0.0018181818181818,
          0.0124164278892073,
          0.021608643457383,
          0.0080445544554455,
          0.0031179138321995,
          0.0010752688172043
         ]
        },
        {
         "name": "S:D1118H",
         "type": "scatter",
         "x": [
          "2020-04",
          "2020-05",
          "2020-06",
          "2020-07",
          "2020-08",
          "2020-09",
          "2020-10",
          "2020-11",
          "2020-12",
          "2021-01",
          "2021-02",
          "2021-03",
          "2021-04",
          "2021-05"
         ],
         "y": [
          0,
          0,
          0,
          0,
          0,
          0,
          0,
          0,
          0.0018181818181818,
          0.0124164278892073,
          0.021608643457383,
          0.0080445544554455,
          0.0034013605442176,
          0.0010752688172043
         ]
        },
        {
         "name": "S:E484K",
         "type": "scatter",
         "x": [
          "2020-04",
          "2020-05",
          "2020-06",
          "2020-07",
          "2020-08",
          "2020-09",
          "2020-10",
          "2020-11",
          "2020-12",
          "2021-01",
          "2021-02",
          "2021-03",
          "2021-04",
          "2021-05"
         ],
         "y": [
          0,
          0,
          0,
          0,
          0,
          0,
          0,
          0,
          0.0018181818181818,
          0.0019102196752626,
          0.0084033613445378,
          0.0321782178217822,
          0.0351473922902494,
          0.0193548387096774
         ]
        },
        {
         "name": "S:N501Y",
         "type": "scatter",
         "x": [
          "2020-04",
          "2020-05",
          "2020-06",
          "2020-07",
          "2020-08",
          "2020-09",
          "2020-10",
          "2020-11",
          "2020-12",
          "2021-01",
          "2021-02",
          "2021-03",
          "2021-04",
          "2021-05"
         ],
         "y": [
          0,
          0,
          0,
          0,
          0,
          0,
          0,
          0,
          0.0018181818181818,
          0.0133715377268386,
          0.0312124849939976,
          0.0380569306930693,
          0.0345804988662132,
          0.0150537634408602
         ]
        },
        {
         "name": "S:S982A",
         "type": "scatter",
         "x": [
          "2020-04",
          "2020-05",
          "2020-06",
          "2020-07",
          "2020-08",
          "2020-09",
          "2020-10",
          "2020-11",
          "2020-12",
          "2021-01",
          "2021-02",
          "2021-03",
          "2021-04",
          "2021-05"
         ],
         "y": [
          0,
          0,
          0,
          0,
          0,
          0,
          0,
          0,
          0.0018181818181818,
          0.0124164278892073,
          0.021608643457383,
          0.0080445544554455,
          0.0028344671201814,
          0.0010752688172043
         ]
        },
        {
         "name": "S:T716I",
         "type": "scatter",
         "x": [
          "2020-04",
          "2020-05",
          "2020-06",
          "2020-07",
          "2020-08",
          "2020-09",
          "2020-10",
          "2020-11",
          "2020-12",
          "2021-01",
          "2021-02",
          "2021-03",
          "2021-04",
          "2021-05"
         ],
         "y": [
          0,
          0,
          0,
          0,
          0,
          0,
          0,
          0,
          0.0018181818181818,
          0.0124164278892073,
          0.021608643457383,
          0.0080445544554455,
          0.0031179138321995,
          0.0010752688172043
         ]
        }
       ],
       "layout": {
        "autosize": false,
        "font": {
         "size": 15
        },
        "height": 1000,
        "legend": {
         "orientation": "h",
         "x": 1,
         "xanchor": "right",
         "y": -0.4,
         "yanchor": "bottom"
        },
        "template": {
         "data": {
          "bar": [
           {
            "error_x": {
             "color": "#2a3f5f"
            },
            "error_y": {
             "color": "#2a3f5f"
            },
            "marker": {
             "line": {
              "color": "#E5ECF6",
              "width": 0.5
             }
            },
            "type": "bar"
           }
          ],
          "barpolar": [
           {
            "marker": {
             "line": {
              "color": "#E5ECF6",
              "width": 0.5
             }
            },
            "type": "barpolar"
           }
          ],
          "carpet": [
           {
            "aaxis": {
             "endlinecolor": "#2a3f5f",
             "gridcolor": "white",
             "linecolor": "white",
             "minorgridcolor": "white",
             "startlinecolor": "#2a3f5f"
            },
            "baxis": {
             "endlinecolor": "#2a3f5f",
             "gridcolor": "white",
             "linecolor": "white",
             "minorgridcolor": "white",
             "startlinecolor": "#2a3f5f"
            },
            "type": "carpet"
           }
          ],
          "choropleth": [
           {
            "colorbar": {
             "outlinewidth": 0,
             "ticks": ""
            },
            "type": "choropleth"
           }
          ],
          "contour": [
           {
            "colorbar": {
             "outlinewidth": 0,
             "ticks": ""
            },
            "colorscale": [
             [
              0,
              "#0d0887"
             ],
             [
              0.1111111111111111,
              "#46039f"
             ],
             [
              0.2222222222222222,
              "#7201a8"
             ],
             [
              0.3333333333333333,
              "#9c179e"
             ],
             [
              0.4444444444444444,
              "#bd3786"
             ],
             [
              0.5555555555555556,
              "#d8576b"
             ],
             [
              0.6666666666666666,
              "#ed7953"
             ],
             [
              0.7777777777777778,
              "#fb9f3a"
             ],
             [
              0.8888888888888888,
              "#fdca26"
             ],
             [
              1,
              "#f0f921"
             ]
            ],
            "type": "contour"
           }
          ],
          "contourcarpet": [
           {
            "colorbar": {
             "outlinewidth": 0,
             "ticks": ""
            },
            "type": "contourcarpet"
           }
          ],
          "heatmap": [
           {
            "colorbar": {
             "outlinewidth": 0,
             "ticks": ""
            },
            "colorscale": [
             [
              0,
              "#0d0887"
             ],
             [
              0.1111111111111111,
              "#46039f"
             ],
             [
              0.2222222222222222,
              "#7201a8"
             ],
             [
              0.3333333333333333,
              "#9c179e"
             ],
             [
              0.4444444444444444,
              "#bd3786"
             ],
             [
              0.5555555555555556,
              "#d8576b"
             ],
             [
              0.6666666666666666,
              "#ed7953"
             ],
             [
              0.7777777777777778,
              "#fb9f3a"
             ],
             [
              0.8888888888888888,
              "#fdca26"
             ],
             [
              1,
              "#f0f921"
             ]
            ],
            "type": "heatmap"
           }
          ],
          "heatmapgl": [
           {
            "colorbar": {
             "outlinewidth": 0,
             "ticks": ""
            },
            "colorscale": [
             [
              0,
              "#0d0887"
             ],
             [
              0.1111111111111111,
              "#46039f"
             ],
             [
              0.2222222222222222,
              "#7201a8"
             ],
             [
              0.3333333333333333,
              "#9c179e"
             ],
             [
              0.4444444444444444,
              "#bd3786"
             ],
             [
              0.5555555555555556,
              "#d8576b"
             ],
             [
              0.6666666666666666,
              "#ed7953"
             ],
             [
              0.7777777777777778,
              "#fb9f3a"
             ],
             [
              0.8888888888888888,
              "#fdca26"
             ],
             [
              1,
              "#f0f921"
             ]
            ],
            "type": "heatmapgl"
           }
          ],
          "histogram": [
           {
            "marker": {
             "colorbar": {
              "outlinewidth": 0,
              "ticks": ""
             }
            },
            "type": "histogram"
           }
          ],
          "histogram2d": [
           {
            "colorbar": {
             "outlinewidth": 0,
             "ticks": ""
            },
            "colorscale": [
             [
              0,
              "#0d0887"
             ],
             [
              0.1111111111111111,
              "#46039f"
             ],
             [
              0.2222222222222222,
              "#7201a8"
             ],
             [
              0.3333333333333333,
              "#9c179e"
             ],
             [
              0.4444444444444444,
              "#bd3786"
             ],
             [
              0.5555555555555556,
              "#d8576b"
             ],
             [
              0.6666666666666666,
              "#ed7953"
             ],
             [
              0.7777777777777778,
              "#fb9f3a"
             ],
             [
              0.8888888888888888,
              "#fdca26"
             ],
             [
              1,
              "#f0f921"
             ]
            ],
            "type": "histogram2d"
           }
          ],
          "histogram2dcontour": [
           {
            "colorbar": {
             "outlinewidth": 0,
             "ticks": ""
            },
            "colorscale": [
             [
              0,
              "#0d0887"
             ],
             [
              0.1111111111111111,
              "#46039f"
             ],
             [
              0.2222222222222222,
              "#7201a8"
             ],
             [
              0.3333333333333333,
              "#9c179e"
             ],
             [
              0.4444444444444444,
              "#bd3786"
             ],
             [
              0.5555555555555556,
              "#d8576b"
             ],
             [
              0.6666666666666666,
              "#ed7953"
             ],
             [
              0.7777777777777778,
              "#fb9f3a"
             ],
             [
              0.8888888888888888,
              "#fdca26"
             ],
             [
              1,
              "#f0f921"
             ]
            ],
            "type": "histogram2dcontour"
           }
          ],
          "mesh3d": [
           {
            "colorbar": {
             "outlinewidth": 0,
             "ticks": ""
            },
            "type": "mesh3d"
           }
          ],
          "parcoords": [
           {
            "line": {
             "colorbar": {
              "outlinewidth": 0,
              "ticks": ""
             }
            },
            "type": "parcoords"
           }
          ],
          "pie": [
           {
            "automargin": true,
            "type": "pie"
           }
          ],
          "scatter": [
           {
            "marker": {
             "colorbar": {
              "outlinewidth": 0,
              "ticks": ""
             }
            },
            "type": "scatter"
           }
          ],
          "scatter3d": [
           {
            "line": {
             "colorbar": {
              "outlinewidth": 0,
              "ticks": ""
             }
            },
            "marker": {
             "colorbar": {
              "outlinewidth": 0,
              "ticks": ""
             }
            },
            "type": "scatter3d"
           }
          ],
          "scattercarpet": [
           {
            "marker": {
             "colorbar": {
              "outlinewidth": 0,
              "ticks": ""
             }
            },
            "type": "scattercarpet"
           }
          ],
          "scattergeo": [
           {
            "marker": {
             "colorbar": {
              "outlinewidth": 0,
              "ticks": ""
             }
            },
            "type": "scattergeo"
           }
          ],
          "scattergl": [
           {
            "marker": {
             "colorbar": {
              "outlinewidth": 0,
              "ticks": ""
             }
            },
            "type": "scattergl"
           }
          ],
          "scattermapbox": [
           {
            "marker": {
             "colorbar": {
              "outlinewidth": 0,
              "ticks": ""
             }
            },
            "type": "scattermapbox"
           }
          ],
          "scatterpolar": [
           {
            "marker": {
             "colorbar": {
              "outlinewidth": 0,
              "ticks": ""
             }
            },
            "type": "scatterpolar"
           }
          ],
          "scatterpolargl": [
           {
            "marker": {
             "colorbar": {
              "outlinewidth": 0,
              "ticks": ""
             }
            },
            "type": "scatterpolargl"
           }
          ],
          "scatterternary": [
           {
            "marker": {
             "colorbar": {
              "outlinewidth": 0,
              "ticks": ""
             }
            },
            "type": "scatterternary"
           }
          ],
          "surface": [
           {
            "colorbar": {
             "outlinewidth": 0,
             "ticks": ""
            },
            "colorscale": [
             [
              0,
              "#0d0887"
             ],
             [
              0.1111111111111111,
              "#46039f"
             ],
             [
              0.2222222222222222,
              "#7201a8"
             ],
             [
              0.3333333333333333,
              "#9c179e"
             ],
             [
              0.4444444444444444,
              "#bd3786"
             ],
             [
              0.5555555555555556,
              "#d8576b"
             ],
             [
              0.6666666666666666,
              "#ed7953"
             ],
             [
              0.7777777777777778,
              "#fb9f3a"
             ],
             [
              0.8888888888888888,
              "#fdca26"
             ],
             [
              1,
              "#f0f921"
             ]
            ],
            "type": "surface"
           }
          ],
          "table": [
           {
            "cells": {
             "fill": {
              "color": "#EBF0F8"
             },
             "line": {
              "color": "white"
             }
            },
            "header": {
             "fill": {
              "color": "#C8D4E3"
             },
             "line": {
              "color": "white"
             }
            },
            "type": "table"
           }
          ]
         },
         "layout": {
          "annotationdefaults": {
           "arrowcolor": "#2a3f5f",
           "arrowhead": 0,
           "arrowwidth": 1
          },
          "autotypenumbers": "strict",
          "coloraxis": {
           "colorbar": {
            "outlinewidth": 0,
            "ticks": ""
           }
          },
          "colorscale": {
           "diverging": [
            [
             0,
             "#8e0152"
            ],
            [
             0.1,
             "#c51b7d"
            ],
            [
             0.2,
             "#de77ae"
            ],
            [
             0.3,
             "#f1b6da"
            ],
            [
             0.4,
             "#fde0ef"
            ],
            [
             0.5,
             "#f7f7f7"
            ],
            [
             0.6,
             "#e6f5d0"
            ],
            [
             0.7,
             "#b8e186"
            ],
            [
             0.8,
             "#7fbc41"
            ],
            [
             0.9,
             "#4d9221"
            ],
            [
             1,
             "#276419"
            ]
           ],
           "sequential": [
            [
             0,
             "#0d0887"
            ],
            [
             0.1111111111111111,
             "#46039f"
            ],
            [
             0.2222222222222222,
             "#7201a8"
            ],
            [
             0.3333333333333333,
             "#9c179e"
            ],
            [
             0.4444444444444444,
             "#bd3786"
            ],
            [
             0.5555555555555556,
             "#d8576b"
            ],
            [
             0.6666666666666666,
             "#ed7953"
            ],
            [
             0.7777777777777778,
             "#fb9f3a"
            ],
            [
             0.8888888888888888,
             "#fdca26"
            ],
            [
             1,
             "#f0f921"
            ]
           ],
           "sequentialminus": [
            [
             0,
             "#0d0887"
            ],
            [
             0.1111111111111111,
             "#46039f"
            ],
            [
             0.2222222222222222,
             "#7201a8"
            ],
            [
             0.3333333333333333,
             "#9c179e"
            ],
            [
             0.4444444444444444,
             "#bd3786"
            ],
            [
             0.5555555555555556,
             "#d8576b"
            ],
            [
             0.6666666666666666,
             "#ed7953"
            ],
            [
             0.7777777777777778,
             "#fb9f3a"
            ],
            [
             0.8888888888888888,
             "#fdca26"
            ],
            [
             1,
             "#f0f921"
            ]
           ]
          },
          "colorway": [
           "#636efa",
           "#EF553B",
           "#00cc96",
           "#ab63fa",
           "#FFA15A",
           "#19d3f3",
           "#FF6692",
           "#B6E880",
           "#FF97FF",
           "#FECB52"
          ],
          "font": {
           "color": "#2a3f5f"
          },
          "geo": {
           "bgcolor": "white",
           "lakecolor": "white",
           "landcolor": "#E5ECF6",
           "showlakes": true,
           "showland": true,
           "subunitcolor": "white"
          },
          "hoverlabel": {
           "align": "left"
          },
          "hovermode": "closest",
          "mapbox": {
           "style": "light"
          },
          "paper_bgcolor": "white",
          "plot_bgcolor": "#E5ECF6",
          "polar": {
           "angularaxis": {
            "gridcolor": "white",
            "linecolor": "white",
            "ticks": ""
           },
           "bgcolor": "#E5ECF6",
           "radialaxis": {
            "gridcolor": "white",
            "linecolor": "white",
            "ticks": ""
           }
          },
          "scene": {
           "xaxis": {
            "backgroundcolor": "#E5ECF6",
            "gridcolor": "white",
            "gridwidth": 2,
            "linecolor": "white",
            "showbackground": true,
            "ticks": "",
            "zerolinecolor": "white"
           },
           "yaxis": {
            "backgroundcolor": "#E5ECF6",
            "gridcolor": "white",
            "gridwidth": 2,
            "linecolor": "white",
            "showbackground": true,
            "ticks": "",
            "zerolinecolor": "white"
           },
           "zaxis": {
            "backgroundcolor": "#E5ECF6",
            "gridcolor": "white",
            "gridwidth": 2,
            "linecolor": "white",
            "showbackground": true,
            "ticks": "",
            "zerolinecolor": "white"
           }
          },
          "shapedefaults": {
           "line": {
            "color": "#2a3f5f"
           }
          },
          "ternary": {
           "aaxis": {
            "gridcolor": "white",
            "linecolor": "white",
            "ticks": ""
           },
           "baxis": {
            "gridcolor": "white",
            "linecolor": "white",
            "ticks": ""
           },
           "bgcolor": "#E5ECF6",
           "caxis": {
            "gridcolor": "white",
            "linecolor": "white",
            "ticks": ""
           }
          },
          "title": {
           "x": 0.05
          },
          "xaxis": {
           "automargin": true,
           "gridcolor": "white",
           "linecolor": "white",
           "ticks": "",
           "title": {
            "standoff": 15
           },
           "zerolinecolor": "white",
           "zerolinewidth": 2
          },
          "yaxis": {
           "automargin": true,
           "gridcolor": "white",
           "linecolor": "white",
           "ticks": "",
           "title": {
            "standoff": 15
           },
           "zerolinecolor": "white",
           "zerolinewidth": 2
          }
         }
        },
        "width": 1400,
        "xaxis": {
         "type": "category"
        }
       }
      }
     },
     "metadata": {}
    }
   ],
   "metadata": {}
  },
  {
   "cell_type": "markdown",
   "source": [
    "# Read  Old Data"
   ],
   "metadata": {
    "id": "dedicated-accordance"
   }
  },
  {
   "cell_type": "code",
   "execution_count": 68,
   "source": [
    "symptom_df = pd.read_csv(path + \"/symptom_frequency_monthWise - symptom_frequency_monthWise.csv\")\n",
    "symptom_df"
   ],
   "outputs": [
    {
     "output_type": "execute_result",
     "data": {
      "text/html": [
       "<div>\n",
       "<style scoped>\n",
       "    .dataframe tbody tr th:only-of-type {\n",
       "        vertical-align: middle;\n",
       "    }\n",
       "\n",
       "    .dataframe tbody tr th {\n",
       "        vertical-align: top;\n",
       "    }\n",
       "\n",
       "    .dataframe thead th {\n",
       "        text-align: right;\n",
       "    }\n",
       "</style>\n",
       "<table border=\"1\" class=\"dataframe\">\n",
       "  <thead>\n",
       "    <tr style=\"text-align: right;\">\n",
       "      <th></th>\n",
       "      <th>Symptom Name</th>\n",
       "      <th>2020-04</th>\n",
       "      <th>2020-05</th>\n",
       "      <th>2020-06</th>\n",
       "      <th>2020-07</th>\n",
       "      <th>2020-08</th>\n",
       "      <th>2020-09</th>\n",
       "      <th>2020-10</th>\n",
       "      <th>2020-11</th>\n",
       "      <th>2020-12</th>\n",
       "      <th>2021-01</th>\n",
       "      <th>2021-02</th>\n",
       "    </tr>\n",
       "  </thead>\n",
       "  <tbody>\n",
       "    <tr>\n",
       "      <th>0</th>\n",
       "      <td>High fever</td>\n",
       "      <td>646</td>\n",
       "      <td>440</td>\n",
       "      <td>976</td>\n",
       "      <td>257</td>\n",
       "      <td>165</td>\n",
       "      <td>177</td>\n",
       "      <td>55</td>\n",
       "      <td>61</td>\n",
       "      <td>33</td>\n",
       "      <td>18</td>\n",
       "      <td>5</td>\n",
       "    </tr>\n",
       "    <tr>\n",
       "      <th>1</th>\n",
       "      <td>Difficulty in breathing</td>\n",
       "      <td>4412</td>\n",
       "      <td>1745</td>\n",
       "      <td>5317</td>\n",
       "      <td>1055</td>\n",
       "      <td>490</td>\n",
       "      <td>405</td>\n",
       "      <td>195</td>\n",
       "      <td>234</td>\n",
       "      <td>175</td>\n",
       "      <td>103</td>\n",
       "      <td>14</td>\n",
       "    </tr>\n",
       "    <tr>\n",
       "      <th>2</th>\n",
       "      <td>Muscle pain</td>\n",
       "      <td>6139</td>\n",
       "      <td>3884</td>\n",
       "      <td>11889</td>\n",
       "      <td>2370</td>\n",
       "      <td>1292</td>\n",
       "      <td>1031</td>\n",
       "      <td>435</td>\n",
       "      <td>505</td>\n",
       "      <td>264</td>\n",
       "      <td>165</td>\n",
       "      <td>19</td>\n",
       "    </tr>\n",
       "    <tr>\n",
       "      <th>3</th>\n",
       "      <td>Dry cough</td>\n",
       "      <td>11219</td>\n",
       "      <td>5131</td>\n",
       "      <td>16114</td>\n",
       "      <td>3066</td>\n",
       "      <td>1807</td>\n",
       "      <td>1699</td>\n",
       "      <td>678</td>\n",
       "      <td>836</td>\n",
       "      <td>498</td>\n",
       "      <td>277</td>\n",
       "      <td>47</td>\n",
       "    </tr>\n",
       "    <tr>\n",
       "      <th>4</th>\n",
       "      <td>Not getting smell</td>\n",
       "      <td>1880</td>\n",
       "      <td>1943</td>\n",
       "      <td>7771</td>\n",
       "      <td>1763</td>\n",
       "      <td>1031</td>\n",
       "      <td>688</td>\n",
       "      <td>402</td>\n",
       "      <td>455</td>\n",
       "      <td>301</td>\n",
       "      <td>139</td>\n",
       "      <td>22</td>\n",
       "    </tr>\n",
       "    <tr>\n",
       "      <th>5</th>\n",
       "      <td>Feeling testless</td>\n",
       "      <td>3126</td>\n",
       "      <td>2829</td>\n",
       "      <td>8891</td>\n",
       "      <td>2029</td>\n",
       "      <td>1115</td>\n",
       "      <td>860</td>\n",
       "      <td>400</td>\n",
       "      <td>439</td>\n",
       "      <td>287</td>\n",
       "      <td>141</td>\n",
       "      <td>21</td>\n",
       "    </tr>\n",
       "    <tr>\n",
       "      <th>6</th>\n",
       "      <td>Fever</td>\n",
       "      <td>3563</td>\n",
       "      <td>3684</td>\n",
       "      <td>8302</td>\n",
       "      <td>2154</td>\n",
       "      <td>1260</td>\n",
       "      <td>1146</td>\n",
       "      <td>413</td>\n",
       "      <td>522</td>\n",
       "      <td>264</td>\n",
       "      <td>139</td>\n",
       "      <td>23</td>\n",
       "    </tr>\n",
       "    <tr>\n",
       "      <th>7</th>\n",
       "      <td>Sore throat</td>\n",
       "      <td>7051</td>\n",
       "      <td>3488</td>\n",
       "      <td>11351</td>\n",
       "      <td>2215</td>\n",
       "      <td>1058</td>\n",
       "      <td>889</td>\n",
       "      <td>412</td>\n",
       "      <td>427</td>\n",
       "      <td>273</td>\n",
       "      <td>148</td>\n",
       "      <td>19</td>\n",
       "    </tr>\n",
       "    <tr>\n",
       "      <th>8</th>\n",
       "      <td>Weakness</td>\n",
       "      <td>7950</td>\n",
       "      <td>910</td>\n",
       "      <td>2363</td>\n",
       "      <td>683</td>\n",
       "      <td>374</td>\n",
       "      <td>307</td>\n",
       "      <td>154</td>\n",
       "      <td>117</td>\n",
       "      <td>93</td>\n",
       "      <td>38</td>\n",
       "      <td>8</td>\n",
       "    </tr>\n",
       "    <tr>\n",
       "      <th>9</th>\n",
       "      <td>Itching eyes or turning red</td>\n",
       "      <td>5709</td>\n",
       "      <td>2295</td>\n",
       "      <td>9253</td>\n",
       "      <td>1372</td>\n",
       "      <td>632</td>\n",
       "      <td>433</td>\n",
       "      <td>225</td>\n",
       "      <td>272</td>\n",
       "      <td>155</td>\n",
       "      <td>89</td>\n",
       "      <td>18</td>\n",
       "    </tr>\n",
       "    <tr>\n",
       "      <th>10</th>\n",
       "      <td>Feeling pain and pressure in chest</td>\n",
       "      <td>6369</td>\n",
       "      <td>2875</td>\n",
       "      <td>10019</td>\n",
       "      <td>1784</td>\n",
       "      <td>860</td>\n",
       "      <td>675</td>\n",
       "      <td>303</td>\n",
       "      <td>331</td>\n",
       "      <td>215</td>\n",
       "      <td>133</td>\n",
       "      <td>21</td>\n",
       "    </tr>\n",
       "  </tbody>\n",
       "</table>\n",
       "</div>"
      ],
      "text/plain": [
       "                          Symptom Name  2020-04  2020-05  2020-06  2020-07  \\\n",
       "0                           High fever      646      440      976      257   \n",
       "1              Difficulty in breathing     4412     1745     5317     1055   \n",
       "2                          Muscle pain     6139     3884    11889     2370   \n",
       "3                            Dry cough    11219     5131    16114     3066   \n",
       "4                    Not getting smell     1880     1943     7771     1763   \n",
       "5                     Feeling testless     3126     2829     8891     2029   \n",
       "6                                Fever     3563     3684     8302     2154   \n",
       "7                          Sore throat     7051     3488    11351     2215   \n",
       "8                             Weakness     7950      910     2363      683   \n",
       "9          Itching eyes or turning red     5709     2295     9253     1372   \n",
       "10  Feeling pain and pressure in chest     6369     2875    10019     1784   \n",
       "\n",
       "    2020-08  2020-09  2020-10  2020-11  2020-12  2021-01  2021-02  \n",
       "0       165      177       55       61       33       18        5  \n",
       "1       490      405      195      234      175      103       14  \n",
       "2      1292     1031      435      505      264      165       19  \n",
       "3      1807     1699      678      836      498      277       47  \n",
       "4      1031      688      402      455      301      139       22  \n",
       "5      1115      860      400      439      287      141       21  \n",
       "6      1260     1146      413      522      264      139       23  \n",
       "7      1058      889      412      427      273      148       19  \n",
       "8       374      307      154      117       93       38        8  \n",
       "9       632      433      225      272      155       89       18  \n",
       "10      860      675      303      331      215      133       21  "
      ]
     },
     "metadata": {},
     "execution_count": 68
    }
   ],
   "metadata": {
    "colab": {
     "base_uri": "https://localhost:8080/",
     "height": 388
    },
    "id": "addressed-adapter",
    "outputId": "d0251a91-5158-4938-b5a9-261bbd1e127e"
   }
  },
  {
   "cell_type": "code",
   "execution_count": 69,
   "source": [
    "symptom_freq_arr = {}\n",
    "\n",
    "for index, row in symptom_df.iterrows():\n",
    "    symptom_name = row['Symptom Name']\n",
    "    symptom_freq_arr[symptom_name] = np.zeros(len(month_arr))\n",
    "    for i in range(len(month_arr)):\n",
    "        month = month_arr[i]\n",
    "        if(month in row):\n",
    "            symptom_freq_arr[symptom_name][i] = row[month]"
   ],
   "outputs": [],
   "metadata": {
    "id": "eastern-museum"
   }
  },
  {
   "cell_type": "code",
   "execution_count": 70,
   "source": [
    "symptom_freq_arr"
   ],
   "outputs": [
    {
     "output_type": "execute_result",
     "data": {
      "text/plain": [
       "{'High fever': array([646., 440., 976., 257., 165., 177.,  55.,  61.,  33.,  18.,   5.,\n",
       "          0.,   0.,   0.]),\n",
       " 'Difficulty in breathing': array([4412., 1745., 5317., 1055.,  490.,  405.,  195.,  234.,  175.,\n",
       "         103.,   14.,    0.,    0.,    0.]),\n",
       " 'Muscle pain': array([ 6139.,  3884., 11889.,  2370.,  1292.,  1031.,   435.,   505.,\n",
       "          264.,   165.,    19.,     0.,     0.,     0.]),\n",
       " 'Dry cough': array([11219.,  5131., 16114.,  3066.,  1807.,  1699.,   678.,   836.,\n",
       "          498.,   277.,    47.,     0.,     0.,     0.]),\n",
       " 'Not getting smell': array([1880., 1943., 7771., 1763., 1031.,  688.,  402.,  455.,  301.,\n",
       "         139.,   22.,    0.,    0.,    0.]),\n",
       " 'Feeling testless': array([3126., 2829., 8891., 2029., 1115.,  860.,  400.,  439.,  287.,\n",
       "         141.,   21.,    0.,    0.,    0.]),\n",
       " 'Fever': array([3563., 3684., 8302., 2154., 1260., 1146.,  413.,  522.,  264.,\n",
       "         139.,   23.,    0.,    0.,    0.]),\n",
       " 'Sore throat': array([ 7051.,  3488., 11351.,  2215.,  1058.,   889.,   412.,   427.,\n",
       "          273.,   148.,    19.,     0.,     0.,     0.]),\n",
       " 'Weakness': array([7950.,  910., 2363.,  683.,  374.,  307.,  154.,  117.,   93.,\n",
       "          38.,    8.,    0.,    0.,    0.]),\n",
       " 'Itching eyes or turning red': array([5709., 2295., 9253., 1372.,  632.,  433.,  225.,  272.,  155.,\n",
       "          89.,   18.,    0.,    0.,    0.]),\n",
       " 'Feeling pain and pressure in chest': array([ 6369.,  2875., 10019.,  1784.,   860.,   675.,   303.,   331.,\n",
       "          215.,   133.,    21.,     0.,     0.,     0.])}"
      ]
     },
     "metadata": {},
     "execution_count": 70
    }
   ],
   "metadata": {
    "colab": {
     "base_uri": "https://localhost:8080/"
    },
    "id": "injured-nancy",
    "outputId": "24afc9db-dc2d-4b39-f0f8-e2f1bcee6ab3"
   }
  },
  {
   "cell_type": "markdown",
   "source": [
    "# Read new data (No data for march)"
   ],
   "metadata": {
    "id": "naked-klein"
   }
  },
  {
   "cell_type": "code",
   "execution_count": 72,
   "source": [
    "import json\n",
    "\n",
    "with open(path + \"/Api/new_data.json\", \"r\") as f:\n",
    "    data = json.load(f)"
   ],
   "outputs": [],
   "metadata": {
    "id": "specialized-corrections"
   }
  },
  {
   "cell_type": "code",
   "execution_count": 73,
   "source": [
    "data"
   ],
   "outputs": [
    {
     "output_type": "execute_result",
     "data": {
      "text/plain": [
       "{'Feeling pain and pressure in chest': {'2020-04': {'BD': 14533,\n",
       "   'Dhaka': 3014},\n",
       "  '2020-05': {'BD': 8918, 'Dhaka': 1534},\n",
       "  '2020-06': {'BD': 26882, 'Dhaka': 3613},\n",
       "  '2020-07': {'BD': 6692, 'Dhaka': 651},\n",
       "  '2020-08': {'BD': 4468, 'Dhaka': 424},\n",
       "  '2020-09': {'BD': 3280, 'Dhaka': 337},\n",
       "  '2020-10': {'BD': 1481, 'Dhaka': 169},\n",
       "  '2020-11': {'BD': 1575, 'Dhaka': 198},\n",
       "  '2020-12': {'BD': 1117, 'Dhaka': 105},\n",
       "  '2021-01': {'BD': 680, 'Dhaka': 63},\n",
       "  '2021-02': {'BD': 129, 'Dhaka': 8},\n",
       "  '2021-04': {'BD': 3494, 'Dhaka': 373},\n",
       "  '2021-05': {'BD': 1186, 'Dhaka': 87},\n",
       "  '2021-06': {'BD': 59, 'Dhaka': 8}},\n",
       " 'Not getting smell': {'2020-04': {'BD': 4502, 'Dhaka': 873},\n",
       "  '2020-05': {'BD': 5954, 'Dhaka': 1157},\n",
       "  '2020-06': {'BD': 21205, 'Dhaka': 2768},\n",
       "  '2020-07': {'BD': 6498, 'Dhaka': 641},\n",
       "  '2020-08': {'BD': 5441, 'Dhaka': 458},\n",
       "  '2020-09': {'BD': 3541, 'Dhaka': 333},\n",
       "  '2020-10': {'BD': 1815, 'Dhaka': 245},\n",
       "  '2020-11': {'BD': 2299, 'Dhaka': 273},\n",
       "  '2020-12': {'BD': 1390, 'Dhaka': 164},\n",
       "  '2021-01': {'BD': 723, 'Dhaka': 64},\n",
       "  '2021-02': {'BD': 138, 'Dhaka': 12},\n",
       "  '2021-04': {'BD': 2292, 'Dhaka': 237},\n",
       "  '2021-05': {'BD': 928, 'Dhaka': 67},\n",
       "  '2021-06': {'BD': 64, 'Dhaka': 5}},\n",
       " 'Dry cough': {'2020-04': {'BD': 24309, 'Dhaka': 5194},\n",
       "  '2020-05': {'BD': 15542, 'Dhaka': 2751},\n",
       "  '2020-06': {'BD': 43564, 'Dhaka': 5335},\n",
       "  '2020-07': {'BD': 11899, 'Dhaka': 1085},\n",
       "  '2020-08': {'BD': 9638, 'Dhaka': 899},\n",
       "  '2020-09': {'BD': 8587, 'Dhaka': 883},\n",
       "  '2020-10': {'BD': 3220, 'Dhaka': 382},\n",
       "  '2020-11': {'BD': 4032, 'Dhaka': 489},\n",
       "  '2020-12': {'BD': 2549, 'Dhaka': 266},\n",
       "  '2021-01': {'BD': 1574, 'Dhaka': 132},\n",
       "  '2021-02': {'BD': 251, 'Dhaka': 27},\n",
       "  '2021-04': {'BD': 5597, 'Dhaka': 625},\n",
       "  '2021-05': {'BD': 1985, 'Dhaka': 169},\n",
       "  '2021-06': {'BD': 142, 'Dhaka': 15}},\n",
       " 'Diabetes': {'2020-04': {'BD': 6855, 'Dhaka': 1636},\n",
       "  '2020-05': {'BD': 5161, 'Dhaka': 1016},\n",
       "  '2020-06': {'BD': 16188, 'Dhaka': 2539},\n",
       "  '2020-07': {'BD': 4000, 'Dhaka': 432},\n",
       "  '2020-08': {'BD': 2561, 'Dhaka': 236},\n",
       "  '2020-09': {'BD': 1561, 'Dhaka': 165},\n",
       "  '2020-10': {'BD': 781, 'Dhaka': 92},\n",
       "  '2020-11': {'BD': 854, 'Dhaka': 82},\n",
       "  '2020-12': {'BD': 687, 'Dhaka': 55},\n",
       "  '2021-01': {'BD': 440, 'Dhaka': 27},\n",
       "  '2021-02': {'BD': 100, 'Dhaka': 11},\n",
       "  '2021-04': {'BD': 1716, 'Dhaka': 204},\n",
       "  '2021-05': {'BD': 617, 'Dhaka': 49},\n",
       "  '2021-06': {'BD': 48, 'Dhaka': 5}},\n",
       " 'Kidney problem': {'2020-04': {'BD': 2103, 'Dhaka': 488},\n",
       "  '2020-05': {'BD': 1215, 'Dhaka': 224},\n",
       "  '2020-06': {'BD': 3810, 'Dhaka': 438},\n",
       "  '2020-07': {'BD': 925, 'Dhaka': 81},\n",
       "  '2020-08': {'BD': 605, 'Dhaka': 52},\n",
       "  '2020-09': {'BD': 417, 'Dhaka': 38},\n",
       "  '2020-10': {'BD': 216, 'Dhaka': 19},\n",
       "  '2020-11': {'BD': 220, 'Dhaka': 22},\n",
       "  '2020-12': {'BD': 179, 'Dhaka': 16},\n",
       "  '2021-01': {'BD': 105, 'Dhaka': 5},\n",
       "  '2021-02': {'BD': 22, 'Dhaka': 1},\n",
       "  '2021-04': {'BD': 508, 'Dhaka': 65},\n",
       "  '2021-05': {'BD': 189, 'Dhaka': 22},\n",
       "  '2021-06': {'BD': 15, 'Dhaka': 2}},\n",
       " 'Fever': {'2020-04': {'BD': 8234, 'Dhaka': 1744},\n",
       "  '2020-05': {'BD': 10433, 'Dhaka': 2189},\n",
       "  '2020-06': {'BD': 22935, 'Dhaka': 2977},\n",
       "  '2020-07': {'BD': 8177, 'Dhaka': 825},\n",
       "  '2020-08': {'BD': 6681, 'Dhaka': 645},\n",
       "  '2020-09': {'BD': 5747, 'Dhaka': 583},\n",
       "  '2020-10': {'BD': 1985, 'Dhaka': 271},\n",
       "  '2020-11': {'BD': 2332, 'Dhaka': 353},\n",
       "  '2020-12': {'BD': 1351, 'Dhaka': 144},\n",
       "  '2021-01': {'BD': 814, 'Dhaka': 70},\n",
       "  '2021-02': {'BD': 140, 'Dhaka': 9},\n",
       "  '2021-04': {'BD': 2206, 'Dhaka': 242},\n",
       "  '2021-05': {'BD': 1193, 'Dhaka': 111},\n",
       "  '2021-06': {'BD': 82, 'Dhaka': 10}},\n",
       " 'Sore throat': {'2020-04': {'BD': 16322, 'Dhaka': 3331},\n",
       "  '2020-05': {'BD': 11089, 'Dhaka': 1856},\n",
       "  '2020-06': {'BD': 30772, 'Dhaka': 4001},\n",
       "  '2020-07': {'BD': 8344, 'Dhaka': 806},\n",
       "  '2020-08': {'BD': 5953, 'Dhaka': 505},\n",
       "  '2020-09': {'BD': 4587, 'Dhaka': 457},\n",
       "  '2020-10': {'BD': 1973, 'Dhaka': 233},\n",
       "  '2020-11': {'BD': 2056, 'Dhaka': 268},\n",
       "  '2020-12': {'BD': 1271, 'Dhaka': 156},\n",
       "  '2021-01': {'BD': 870, 'Dhaka': 79},\n",
       "  '2021-02': {'BD': 155, 'Dhaka': 11},\n",
       "  '2021-04': {'BD': 3024, 'Dhaka': 323},\n",
       "  '2021-05': {'BD': 1256, 'Dhaka': 93},\n",
       "  '2021-06': {'BD': 82, 'Dhaka': 8}},\n",
       " 'Difficulty in breathing': {'2020-04': {'BD': 9820, 'Dhaka': 1964},\n",
       "  '2020-05': {'BD': 5524, 'Dhaka': 892},\n",
       "  '2020-06': {'BD': 14511, 'Dhaka': 1875},\n",
       "  '2020-07': {'BD': 3923, 'Dhaka': 349},\n",
       "  '2020-08': {'BD': 2524, 'Dhaka': 224},\n",
       "  '2020-09': {'BD': 2008, 'Dhaka': 182},\n",
       "  '2020-10': {'BD': 994, 'Dhaka': 97},\n",
       "  '2020-11': {'BD': 1153, 'Dhaka': 131},\n",
       "  '2020-12': {'BD': 806, 'Dhaka': 91},\n",
       "  '2021-01': {'BD': 540, 'Dhaka': 48},\n",
       "  '2021-02': {'BD': 90, 'Dhaka': 8},\n",
       "  '2021-04': {'BD': 1886, 'Dhaka': 204},\n",
       "  '2021-05': {'BD': 703, 'Dhaka': 50},\n",
       "  '2021-06': {'BD': 43, 'Dhaka': 8}},\n",
       " 'High blood pressure': {'2020-04': {'BD': 10452, 'Dhaka': 2533},\n",
       "  '2020-05': {'BD': 7433, 'Dhaka': 1372},\n",
       "  '2020-06': {'BD': 22353, 'Dhaka': 3403},\n",
       "  '2020-07': {'BD': 5328, 'Dhaka': 553},\n",
       "  '2020-08': {'BD': 3657, 'Dhaka': 348},\n",
       "  '2020-09': {'BD': 2160, 'Dhaka': 258},\n",
       "  '2020-10': {'BD': 1210, 'Dhaka': 132},\n",
       "  '2020-11': {'BD': 1285, 'Dhaka': 163},\n",
       "  '2020-12': {'BD': 970, 'Dhaka': 96},\n",
       "  '2021-01': {'BD': 596, 'Dhaka': 47},\n",
       "  '2021-02': {'BD': 93, 'Dhaka': 11},\n",
       "  '2021-04': {'BD': 3055, 'Dhaka': 397},\n",
       "  '2021-05': {'BD': 875, 'Dhaka': 85},\n",
       "  '2021-06': {'BD': 51, 'Dhaka': 6}},\n",
       " 'High fever': {'2020-04': {'BD': 1656, 'Dhaka': 304},\n",
       "  '2020-05': {'BD': 1315, 'Dhaka': 226},\n",
       "  '2020-06': {'BD': 2939, 'Dhaka': 314},\n",
       "  '2020-07': {'BD': 1024, 'Dhaka': 87},\n",
       "  '2020-08': {'BD': 920, 'Dhaka': 81},\n",
       "  '2020-09': {'BD': 955, 'Dhaka': 77},\n",
       "  '2020-10': {'BD': 274, 'Dhaka': 27},\n",
       "  '2020-11': {'BD': 293, 'Dhaka': 33},\n",
       "  '2020-12': {'BD': 175, 'Dhaka': 19},\n",
       "  '2021-01': {'BD': 131, 'Dhaka': 8},\n",
       "  '2021-02': {'BD': 25, 'Dhaka': 1},\n",
       "  '2021-04': {'BD': 422, 'Dhaka': 32},\n",
       "  '2021-05': {'BD': 224, 'Dhaka': 18},\n",
       "  '2021-06': {'BD': 19, 'Dhaka': 1}},\n",
       " 'Weakness': {'2020-04': {'BD': 12201, 'Dhaka': 3780},\n",
       "  '2020-05': {'BD': 2651, 'Dhaka': 533},\n",
       "  '2020-06': {'BD': 6601, 'Dhaka': 831},\n",
       "  '2020-07': {'BD': 2472, 'Dhaka': 245},\n",
       "  '2020-08': {'BD': 1941, 'Dhaka': 172},\n",
       "  '2020-09': {'BD': 1541, 'Dhaka': 161},\n",
       "  '2020-10': {'BD': 684, 'Dhaka': 96},\n",
       "  '2020-11': {'BD': 580, 'Dhaka': 76},\n",
       "  '2020-12': {'BD': 388, 'Dhaka': 48},\n",
       "  '2021-01': {'BD': 228, 'Dhaka': 18},\n",
       "  '2021-02': {'BD': 55, 'Dhaka': 2},\n",
       "  '2021-04': {'BD': 1027, 'Dhaka': 111},\n",
       "  '2021-05': {'BD': 427, 'Dhaka': 31},\n",
       "  '2021-06': {'BD': 36, 'Dhaka': 5}},\n",
       " 'Itching eyes or turning red': {'2020-04': {'BD': 12659, 'Dhaka': 2604},\n",
       "  '2020-05': {'BD': 7306, 'Dhaka': 1050},\n",
       "  '2020-06': {'BD': 24386, 'Dhaka': 2941},\n",
       "  '2020-07': {'BD': 5265, 'Dhaka': 480},\n",
       "  '2020-08': {'BD': 3332, 'Dhaka': 284},\n",
       "  '2020-09': {'BD': 2421, 'Dhaka': 205},\n",
       "  '2020-10': {'BD': 1132, 'Dhaka': 107},\n",
       "  '2020-11': {'BD': 1352, 'Dhaka': 167},\n",
       "  '2020-12': {'BD': 818, 'Dhaka': 70},\n",
       "  '2021-01': {'BD': 613, 'Dhaka': 47},\n",
       "  '2021-02': {'BD': 122, 'Dhaka': 9},\n",
       "  '2021-04': {'BD': 3045, 'Dhaka': 308},\n",
       "  '2021-05': {'BD': 928, 'Dhaka': 66},\n",
       "  '2021-06': {'BD': 58, 'Dhaka': 4}},\n",
       " 'Sleepiness': {'2020-04': {'BD': 12249, 'Dhaka': 2796},\n",
       "  '2020-05': {'BD': 8628, 'Dhaka': 1460},\n",
       "  '2020-06': {'BD': 24958, 'Dhaka': 3448},\n",
       "  '2020-07': {'BD': 7319, 'Dhaka': 714},\n",
       "  '2020-08': {'BD': 5691, 'Dhaka': 516},\n",
       "  '2020-09': {'BD': 4170, 'Dhaka': 436},\n",
       "  '2020-10': {'BD': 1960, 'Dhaka': 270},\n",
       "  '2020-11': {'BD': 2119, 'Dhaka': 289},\n",
       "  '2020-12': {'BD': 1317, 'Dhaka': 127},\n",
       "  '2021-01': {'BD': 824, 'Dhaka': 70},\n",
       "  '2021-02': {'BD': 126, 'Dhaka': 5},\n",
       "  '2021-04': {'BD': 4487, 'Dhaka': 498},\n",
       "  '2021-05': {'BD': 1294, 'Dhaka': 110},\n",
       "  '2021-06': {'BD': 88, 'Dhaka': 7}},\n",
       " 'Respiratory illness': {'2020-04': {'BD': 5445, 'Dhaka': 1243},\n",
       "  '2020-05': {'BD': 3226, 'Dhaka': 495},\n",
       "  '2020-06': {'BD': 9240, 'Dhaka': 1276},\n",
       "  '2020-07': {'BD': 2354, 'Dhaka': 210},\n",
       "  '2020-08': {'BD': 1636, 'Dhaka': 133},\n",
       "  '2020-09': {'BD': 1179, 'Dhaka': 90},\n",
       "  '2020-10': {'BD': 564, 'Dhaka': 40},\n",
       "  '2020-11': {'BD': 643, 'Dhaka': 71},\n",
       "  '2020-12': {'BD': 439, 'Dhaka': 39},\n",
       "  '2021-01': {'BD': 316, 'Dhaka': 22},\n",
       "  '2021-02': {'BD': 48, 'Dhaka': 0},\n",
       "  '2021-04': {'BD': 1234, 'Dhaka': 127},\n",
       "  '2021-05': {'BD': 437, 'Dhaka': 34},\n",
       "  '2021-06': {'BD': 28, 'Dhaka': 3}},\n",
       " 'Feeling testless': {'2020-04': {'BD': 7153, 'Dhaka': 1468},\n",
       "  '2020-05': {'BD': 8329, 'Dhaka': 1656},\n",
       "  '2020-06': {'BD': 24506, 'Dhaka': 3057},\n",
       "  '2020-07': {'BD': 7523, 'Dhaka': 691},\n",
       "  '2020-08': {'BD': 6044, 'Dhaka': 491},\n",
       "  '2020-09': {'BD': 4310, 'Dhaka': 406},\n",
       "  '2020-10': {'BD': 1860, 'Dhaka': 226},\n",
       "  '2020-11': {'BD': 2220, 'Dhaka': 276},\n",
       "  '2020-12': {'BD': 1313, 'Dhaka': 146},\n",
       "  '2021-01': {'BD': 682, 'Dhaka': 59},\n",
       "  '2021-02': {'BD': 112, 'Dhaka': 11},\n",
       "  '2021-04': {'BD': 2491, 'Dhaka': 258},\n",
       "  '2021-05': {'BD': 1071, 'Dhaka': 76},\n",
       "  '2021-06': {'BD': 97, 'Dhaka': 8}},\n",
       " 'Muscle pain': {'2020-04': {'BD': 13753, 'Dhaka': 2903},\n",
       "  '2020-05': {'BD': 11767, 'Dhaka': 2198},\n",
       "  '2020-06': {'BD': 31885, 'Dhaka': 4104},\n",
       "  '2020-07': {'BD': 9455, 'Dhaka': 842},\n",
       "  '2020-08': {'BD': 6986, 'Dhaka': 645},\n",
       "  '2020-09': {'BD': 5296, 'Dhaka': 533},\n",
       "  '2020-10': {'BD': 2120, 'Dhaka': 262},\n",
       "  '2020-11': {'BD': 2264, 'Dhaka': 327},\n",
       "  '2020-12': {'BD': 1392, 'Dhaka': 143},\n",
       "  '2021-01': {'BD': 860, 'Dhaka': 74},\n",
       "  '2021-02': {'BD': 155, 'Dhaka': 6},\n",
       "  '2021-04': {'BD': 4283, 'Dhaka': 469},\n",
       "  '2021-05': {'BD': 1473, 'Dhaka': 124},\n",
       "  '2021-06': {'BD': 108, 'Dhaka': 11}},\n",
       " 'Abdominal pain, nausea or thin closet': {'2020-04': {'BD': 6644,\n",
       "   'Dhaka': 1365},\n",
       "  '2020-05': {'BD': 5776, 'Dhaka': 1111},\n",
       "  '2020-06': {'BD': 12587, 'Dhaka': 1581},\n",
       "  '2020-07': {'BD': 4121, 'Dhaka': 387},\n",
       "  '2020-08': {'BD': 3350, 'Dhaka': 326},\n",
       "  '2020-09': {'BD': 2465, 'Dhaka': 228},\n",
       "  '2020-10': {'BD': 1143, 'Dhaka': 143},\n",
       "  '2020-11': {'BD': 1121, 'Dhaka': 143},\n",
       "  '2020-12': {'BD': 756, 'Dhaka': 68},\n",
       "  '2021-01': {'BD': 532, 'Dhaka': 49},\n",
       "  '2021-02': {'BD': 89, 'Dhaka': 7},\n",
       "  '2021-04': {'BD': 2294, 'Dhaka': 262},\n",
       "  '2021-05': {'BD': 797, 'Dhaka': 69},\n",
       "  '2021-06': {'BD': 38, 'Dhaka': 5}},\n",
       " 'Cancer': {'2020-04': {'BD': 519, 'Dhaka': 100},\n",
       "  '2020-05': {'BD': 278, 'Dhaka': 42},\n",
       "  '2020-06': {'BD': 781, 'Dhaka': 68},\n",
       "  '2020-07': {'BD': 257, 'Dhaka': 21},\n",
       "  '2020-08': {'BD': 166, 'Dhaka': 11},\n",
       "  '2020-09': {'BD': 112, 'Dhaka': 4},\n",
       "  '2020-10': {'BD': 83, 'Dhaka': 6},\n",
       "  '2020-11': {'BD': 71, 'Dhaka': 3},\n",
       "  '2020-12': {'BD': 62, 'Dhaka': 4},\n",
       "  '2021-01': {'BD': 57, 'Dhaka': 3},\n",
       "  '2021-02': {'BD': 9, 'Dhaka': 0},\n",
       "  '2021-04': {'BD': 176, 'Dhaka': 10},\n",
       "  '2021-05': {'BD': 74, 'Dhaka': 5},\n",
       "  '2021-06': {'BD': 5, 'Dhaka': 1}},\n",
       " 'Heart diseases': {'2020-04': {'BD': 3783, 'Dhaka': 808},\n",
       "  '2020-05': {'BD': 2394, 'Dhaka': 396},\n",
       "  '2020-06': {'BD': 7150, 'Dhaka': 886},\n",
       "  '2020-07': {'BD': 1844, 'Dhaka': 181},\n",
       "  '2020-08': {'BD': 1129, 'Dhaka': 90},\n",
       "  '2020-09': {'BD': 780, 'Dhaka': 81},\n",
       "  '2020-10': {'BD': 407, 'Dhaka': 48},\n",
       "  '2020-11': {'BD': 421, 'Dhaka': 47},\n",
       "  '2020-12': {'BD': 360, 'Dhaka': 29},\n",
       "  '2021-01': {'BD': 200, 'Dhaka': 16},\n",
       "  '2021-02': {'BD': 33, 'Dhaka': 3},\n",
       "  '2021-04': {'BD': 975, 'Dhaka': 126},\n",
       "  '2021-05': {'BD': 314, 'Dhaka': 22},\n",
       "  '2021-06': {'BD': 23, 'Dhaka': 2}}}"
      ]
     },
     "metadata": {},
     "execution_count": 73
    }
   ],
   "metadata": {
    "id": "established-signature"
   }
  },
  {
   "cell_type": "code",
   "execution_count": 74,
   "source": [
    "# month_total_cases = {}\n",
    "# for symptom in data:\n",
    "#     for month in data[symptom]:\n",
    "#         if(month not in month_total_cases):\n",
    "#             month_total_cases[month] = 0\n",
    "#         month_total_cases[month] += data[symptom][month]['BD']\n",
    "# month_total_cases\n",
    "\n",
    "with open(path + \"/Api/month_total.json\", 'r') as f:\n",
    "    month_total_cases = json.load(f)\n",
    "month_total_cases"
   ],
   "outputs": [
    {
     "output_type": "execute_result",
     "data": {
      "text/plain": [
       "{'2020-03': 52133,\n",
       " '2020-04': 111653,\n",
       " '2020-05': 65371,\n",
       " '2020-06': 236990,\n",
       " '2020-07': 51092,\n",
       " '2020-08': 32353,\n",
       " '2020-09': 24388,\n",
       " '2020-10': 10884,\n",
       " '2020-11': 11734,\n",
       " '2020-12': 8264,\n",
       " '2021-01': 5616,\n",
       " '2021-02': 1105,\n",
       " '2021-04': 28987,\n",
       " '2021-05': 8681,\n",
       " '2021-06': 672}"
      ]
     },
     "metadata": {},
     "execution_count": 74
    }
   ],
   "metadata": {
    "colab": {
     "base_uri": "https://localhost:8080/"
    },
    "id": "brief-skiing",
    "outputId": "8f185fe1-5929-4484-c715-3a4f6bb7dd83"
   }
  },
  {
   "cell_type": "code",
   "execution_count": 75,
   "source": [
    "symptom_freq_arr = {}\n",
    "\n",
    "for symptom in data:\n",
    "    arr = []\n",
    "    for month in data[symptom]:\n",
    "#         arr.append(data[symptom][month]['BD'])            # consider total counts\n",
    "        arr.append(data[symptom][month]['BD']/month_total_cases[month]) # consider percentage\n",
    "    \n",
    "    symptom_freq_arr[symptom] = np.array(arr)\n",
    "    \n",
    "# symptom_freq_arr"
   ],
   "outputs": [],
   "metadata": {
    "id": "alike-sister"
   }
  },
  {
   "cell_type": "code",
   "execution_count": 77,
   "source": [
    "import plotly.graph_objects as go\n",
    "\n",
    "fig = go.Figure()\n",
    "for symptom in symptom_freq_arr:\n",
    "    # plt.plot(month_arr, mutation_freq_arr[mutation], label=mutation)\n",
    "    fig.add_trace(\n",
    "        go.Scatter(\n",
    "            x=month_arr,\n",
    "            y=symptom_freq_arr[symptom],\n",
    "            name=symptom\n",
    "        ))\n",
    "fig.update_xaxes(type='category')\n",
    "\n",
    "fig.update_layout(\n",
    "    autosize=False,\n",
    "    width=1400,\n",
    "    height=800,)\n",
    "fig.update_layout(legend=dict(\n",
    "    orientation=\"h\",\n",
    "    yanchor=\"bottom\",\n",
    "    y=-0.35,\n",
    "    xanchor=\"right\",\n",
    "    x=1\n",
    "))\n",
    "\n",
    "fig.update_layout(font=dict(size=15))\n",
    "fig.show()"
   ],
   "outputs": [
    {
     "output_type": "display_data",
     "data": {
      "application/vnd.plotly.v1+json": {
       "config": {
        "plotlyServerURL": "https://plot.ly"
       },
       "data": [
        {
         "name": "Feeling pain and pressure in chest",
         "type": "scatter",
         "x": [
          "2020-04",
          "2020-05",
          "2020-06",
          "2020-07",
          "2020-08",
          "2020-09",
          "2020-10",
          "2020-11",
          "2020-12",
          "2021-01",
          "2021-02",
          "2021-03",
          "2021-04",
          "2021-05"
         ],
         "y": [
          0.1301621989556931,
          0.13642134891618607,
          0.11343094645343685,
          0.13097940969231975,
          0.13810156708805985,
          0.13449237329834346,
          0.1360712973171628,
          0.1342253281063576,
          0.13516456921587608,
          0.12108262108262108,
          0.1167420814479638,
          0.12053679235519371,
          0.13662020504550168,
          0.08779761904761904
         ]
        },
        {
         "name": "Not getting smell",
         "type": "scatter",
         "x": [
          "2020-04",
          "2020-05",
          "2020-06",
          "2020-07",
          "2020-08",
          "2020-09",
          "2020-10",
          "2020-11",
          "2020-12",
          "2021-01",
          "2021-02",
          "2021-03",
          "2021-04",
          "2021-05"
         ],
         "y": [
          0.04032135276257691,
          0.09108014257086476,
          0.08947634921304697,
          0.12718233774367807,
          0.16817605786171297,
          0.14519435788092505,
          0.1667585446527012,
          0.19592636782001022,
          0.16819941916747339,
          0.12873931623931623,
          0.1248868778280543,
          0.07906992789871321,
          0.10690012671351226,
          0.09523809523809523
         ]
        },
        {
         "name": "Dry cough",
         "type": "scatter",
         "x": [
          "2020-04",
          "2020-05",
          "2020-06",
          "2020-07",
          "2020-08",
          "2020-09",
          "2020-10",
          "2020-11",
          "2020-12",
          "2021-01",
          "2021-02",
          "2021-03",
          "2021-04",
          "2021-05"
         ],
         "y": [
          0.2177191835418663,
          0.23775068455431309,
          0.183822102198405,
          0.23289360369529477,
          0.29790127654313353,
          0.35209939314416927,
          0.2958471150312385,
          0.34361683995227543,
          0.3084462729912875,
          0.28027065527065526,
          0.22714932126696832,
          0.19308655604236383,
          0.22866029259301923,
          0.2113095238095238
         ]
        },
        {
         "name": "Diabetes",
         "type": "scatter",
         "x": [
          "2020-04",
          "2020-05",
          "2020-06",
          "2020-07",
          "2020-08",
          "2020-09",
          "2020-10",
          "2020-11",
          "2020-12",
          "2021-01",
          "2021-02",
          "2021-03",
          "2021-04",
          "2021-05"
         ],
         "y": [
          0.061395573786642545,
          0.07894938122409019,
          0.06830667960673446,
          0.07829014327096219,
          0.07915803789447655,
          0.06400688863375431,
          0.07175670709298052,
          0.07277995568433612,
          0.08313165537270087,
          0.07834757834757834,
          0.09049773755656108,
          0.059198951254010417,
          0.07107476097223822,
          0.07142857142857142
         ]
        },
        {
         "name": "Kidney problem",
         "type": "scatter",
         "x": [
          "2020-04",
          "2020-05",
          "2020-06",
          "2020-07",
          "2020-08",
          "2020-09",
          "2020-10",
          "2020-11",
          "2020-12",
          "2021-01",
          "2021-02",
          "2021-03",
          "2021-04",
          "2021-05"
         ],
         "y": [
          0.01883514101725883,
          0.018586223248841228,
          0.01607662770581037,
          0.018104595631410005,
          0.018699966000061817,
          0.017098573068722322,
          0.019845644983461964,
          0.018748934719618204,
          0.021660212971926426,
          0.018696581196581196,
          0.019909502262443438,
          0.01752509745748094,
          0.021771685289713166,
          0.022321428571428572
         ]
        },
        {
         "name": "Fever",
         "type": "scatter",
         "x": [
          "2020-04",
          "2020-05",
          "2020-06",
          "2020-07",
          "2020-08",
          "2020-09",
          "2020-10",
          "2020-11",
          "2020-12",
          "2021-01",
          "2021-02",
          "2021-03",
          "2021-04",
          "2021-05"
         ],
         "y": [
          0.07374633910418887,
          0.15959676309066712,
          0.0967762352841892,
          0.16004462538166445,
          0.20650326090316198,
          0.23564867967853043,
          0.18237780227857406,
          0.19873870802795296,
          0.16348015488867376,
          0.14494301994301995,
          0.12669683257918551,
          0.0761030806913444,
          0.1374265637599355,
          0.12202380952380952
         ]
        },
        {
         "name": "Sore throat",
         "type": "scatter",
         "x": [
          "2020-04",
          "2020-05",
          "2020-06",
          "2020-07",
          "2020-08",
          "2020-09",
          "2020-10",
          "2020-11",
          "2020-12",
          "2021-01",
          "2021-02",
          "2021-03",
          "2021-04",
          "2021-05"
         ],
         "y": [
          0.14618505548440258,
          0.16963179391473282,
          0.129845141145196,
          0.16331323886322713,
          0.1840014836336661,
          0.18808430375594554,
          0.1812752664461595,
          0.1752173171978865,
          0.15379961277831558,
          0.15491452991452992,
          0.14027149321266968,
          0.10432262738468968,
          0.14468379218983987,
          0.12202380952380952
         ]
        },
        {
         "name": "Difficulty in breathing",
         "type": "scatter",
         "x": [
          "2020-04",
          "2020-05",
          "2020-06",
          "2020-07",
          "2020-08",
          "2020-09",
          "2020-10",
          "2020-11",
          "2020-12",
          "2021-01",
          "2021-02",
          "2021-03",
          "2021-04",
          "2021-05"
         ],
         "y": [
          0.08795106266737122,
          0.08450230224411437,
          0.06123043166378328,
          0.07678305801299616,
          0.07801440361017525,
          0.08233557487288831,
          0.09132671811833884,
          0.09826146241690813,
          0.09753146176185866,
          0.09615384615384616,
          0.08144796380090498,
          0.06506364922206506,
          0.08098145374956803,
          0.06398809523809523
         ]
        },
        {
         "name": "High blood pressure",
         "type": "scatter",
         "x": [
          "2020-04",
          "2020-05",
          "2020-06",
          "2020-07",
          "2020-08",
          "2020-09",
          "2020-10",
          "2020-11",
          "2020-12",
          "2021-01",
          "2021-02",
          "2021-03",
          "2021-04",
          "2021-05"
         ],
         "y": [
          0.09361145692457883,
          0.11370485383426902,
          0.09432043546141188,
          0.10428247083692163,
          0.11303433993756375,
          0.08856814826964081,
          0.11117236310180081,
          0.10951082324867906,
          0.11737657308809293,
          0.10612535612535613,
          0.08416289592760182,
          0.10539207230827613,
          0.10079483930422763,
          0.07589285714285714
         ]
        },
        {
         "name": "High fever",
         "type": "scatter",
         "x": [
          "2020-04",
          "2020-05",
          "2020-06",
          "2020-07",
          "2020-08",
          "2020-09",
          "2020-10",
          "2020-11",
          "2020-12",
          "2021-01",
          "2021-02",
          "2021-03",
          "2021-04",
          "2021-05"
         ],
         "y": [
          0.014831665965088265,
          0.020115953557387833,
          0.012401367146293092,
          0.02004227667736632,
          0.028436311933978303,
          0.03915860259143841,
          0.02517456817346564,
          0.0249701721493097,
          0.021176185866408518,
          0.023326210826210825,
          0.02262443438914027,
          0.014558250250112119,
          0.02580347886188227,
          0.028273809523809524
         ]
        },
        {
         "name": "Weakness",
         "type": "scatter",
         "x": [
          "2020-04",
          "2020-05",
          "2020-06",
          "2020-07",
          "2020-08",
          "2020-09",
          "2020-10",
          "2020-11",
          "2020-12",
          "2021-01",
          "2021-02",
          "2021-03",
          "2021-04",
          "2021-05"
         ],
         "y": [
          0.10927606065219922,
          0.04055315047957045,
          0.027853495928098233,
          0.04838330854145463,
          0.05999443637375205,
          0.06318681318681318,
          0.06284454244762955,
          0.04942900971535708,
          0.04695062923523717,
          0.0405982905982906,
          0.049773755656108594,
          0.03542967537171836,
          0.04918788158046308,
          0.05357142857142857
         ]
        },
        {
         "name": "Itching eyes or turning red",
         "type": "scatter",
         "x": [
          "2020-04",
          "2020-05",
          "2020-06",
          "2020-07",
          "2020-08",
          "2020-09",
          "2020-10",
          "2020-11",
          "2020-12",
          "2021-01",
          "2021-02",
          "2021-03",
          "2021-04",
          "2021-05"
         ],
         "y": [
          0.11337805522466929,
          0.11176209634241484,
          0.1028988564918351,
          0.10304940108040397,
          0.1029889036565388,
          0.0992701328522224,
          0.10400588019110621,
          0.11522072609510824,
          0.0989835430784124,
          0.10915242165242166,
          0.11040723981900452,
          0.10504709007486114,
          0.10690012671351226,
          0.08630952380952381
         ]
        },
        {
         "name": "Sleepiness",
         "type": "scatter",
         "x": [
          "2020-04",
          "2020-05",
          "2020-06",
          "2020-07",
          "2020-08",
          "2020-09",
          "2020-10",
          "2020-11",
          "2020-12",
          "2021-01",
          "2021-02",
          "2021-03",
          "2021-04",
          "2021-05"
         ],
         "y": [
          0.10970596401350613,
          0.13198513102140091,
          0.10531246044136884,
          0.14325138965004305,
          0.17590331653942448,
          0.17098573068722323,
          0.1800808526277104,
          0.18058633032214078,
          0.15936592449177153,
          0.1467236467236467,
          0.11402714932126697,
          0.15479352813330113,
          0.14906116806819492,
          0.13095238095238096
         ]
        },
        {
         "name": "Respiratory illness",
         "type": "scatter",
         "x": [
          "2020-04",
          "2020-05",
          "2020-06",
          "2020-07",
          "2020-08",
          "2020-09",
          "2020-10",
          "2020-11",
          "2020-12",
          "2021-01",
          "2021-02",
          "2021-03",
          "2021-04",
          "2021-05"
         ],
         "y": [
          0.048767162548252176,
          0.04934909975371342,
          0.03898898687708342,
          0.04607374931496125,
          0.05056718078694403,
          0.04834344759717894,
          0.05181918412348401,
          0.05479802283961139,
          0.053121974830590515,
          0.05626780626780627,
          0.04343891402714932,
          0.04257080760340842,
          0.05033982260108282,
          0.041666666666666664
         ]
        },
        {
         "name": "Feeling testless",
         "type": "scatter",
         "x": [
          "2020-04",
          "2020-05",
          "2020-06",
          "2020-07",
          "2020-08",
          "2020-09",
          "2020-10",
          "2020-11",
          "2020-12",
          "2021-01",
          "2021-02",
          "2021-03",
          "2021-04",
          "2021-05"
         ],
         "y": [
          0.06406455715475626,
          0.12741123739884658,
          0.10340520697075826,
          0.14724418695686214,
          0.1868142057923531,
          0.17672625881581105,
          0.17089305402425578,
          0.18919379580705642,
          0.15888189738625363,
          0.12143874643874644,
          0.10135746606334842,
          0.0859350743436713,
          0.1233728833083746,
          0.14434523809523808
         ]
        },
        {
         "name": "Muscle pain",
         "type": "scatter",
         "x": [
          "2020-04",
          "2020-05",
          "2020-06",
          "2020-07",
          "2020-08",
          "2020-09",
          "2020-10",
          "2020-11",
          "2020-12",
          "2021-01",
          "2021-02",
          "2021-03",
          "2021-04",
          "2021-05"
         ],
         "y": [
          0.12317626933445586,
          0.1800033654066788,
          0.13454154183720832,
          0.18505832615673687,
          0.21593051648997003,
          0.2171559783500082,
          0.19478133039323778,
          0.19294358275098006,
          0.16844143272023232,
          0.15313390313390313,
          0.14027149321266968,
          0.14775589057163557,
          0.16968091233728833,
          0.16071428571428573
         ]
        },
        {
         "name": "Abdominal pain, nausea or thin closet",
         "type": "scatter",
         "x": [
          "2020-04",
          "2020-05",
          "2020-06",
          "2020-07",
          "2020-08",
          "2020-09",
          "2020-10",
          "2020-11",
          "2020-12",
          "2021-01",
          "2021-02",
          "2021-03",
          "2021-04",
          "2021-05"
         ],
         "y": [
          0.059505790260897605,
          0.0883572226216518,
          0.05311194565171526,
          0.0806584201049088,
          0.10354526628133404,
          0.10107429883549286,
          0.10501653803748622,
          0.09553434463950912,
          0.0914811229428848,
          0.09472934472934473,
          0.08054298642533937,
          0.07913892434539621,
          0.09180969934339361,
          0.05654761904761905
         ]
        },
        {
         "name": "Cancer",
         "type": "scatter",
         "x": [
          "2020-04",
          "2020-05",
          "2020-06",
          "2020-07",
          "2020-08",
          "2020-09",
          "2020-10",
          "2020-11",
          "2020-12",
          "2021-01",
          "2021-02",
          "2021-03",
          "2021-04",
          "2021-05"
         ],
         "y": [
          0.0046483300941309235,
          0.004252650257759557,
          0.0032954977003249084,
          0.005030141705159321,
          0.005130899762000433,
          0.004592422502870264,
          0.007625872840867329,
          0.006050792568604056,
          0.007502420135527589,
          0.01014957264957265,
          0.008144796380090498,
          0.006071687308103633,
          0.008524363552586107,
          0.00744047619047619
         ]
        },
        {
         "name": "Heart diseases",
         "type": "scatter",
         "x": [
          "2020-04",
          "2020-05",
          "2020-06",
          "2020-07",
          "2020-08",
          "2020-09",
          "2020-10",
          "2020-11",
          "2020-12",
          "2021-01",
          "2021-02",
          "2021-03",
          "2021-04",
          "2021-05"
         ],
         "y": [
          0.03388175866300055,
          0.03662174358660568,
          0.030170049369171694,
          0.036091756047913565,
          0.034896300188545115,
          0.031982942430703626,
          0.03739434031606027,
          0.035878643258905746,
          0.04356243949661181,
          0.03561253561253561,
          0.02986425339366516,
          0.03363576775796046,
          0.03617094804745997,
          0.03422619047619048
         ]
        }
       ],
       "layout": {
        "autosize": false,
        "font": {
         "size": 15
        },
        "height": 800,
        "legend": {
         "orientation": "h",
         "x": 1,
         "xanchor": "right",
         "y": -0.35,
         "yanchor": "bottom"
        },
        "template": {
         "data": {
          "bar": [
           {
            "error_x": {
             "color": "#2a3f5f"
            },
            "error_y": {
             "color": "#2a3f5f"
            },
            "marker": {
             "line": {
              "color": "#E5ECF6",
              "width": 0.5
             }
            },
            "type": "bar"
           }
          ],
          "barpolar": [
           {
            "marker": {
             "line": {
              "color": "#E5ECF6",
              "width": 0.5
             }
            },
            "type": "barpolar"
           }
          ],
          "carpet": [
           {
            "aaxis": {
             "endlinecolor": "#2a3f5f",
             "gridcolor": "white",
             "linecolor": "white",
             "minorgridcolor": "white",
             "startlinecolor": "#2a3f5f"
            },
            "baxis": {
             "endlinecolor": "#2a3f5f",
             "gridcolor": "white",
             "linecolor": "white",
             "minorgridcolor": "white",
             "startlinecolor": "#2a3f5f"
            },
            "type": "carpet"
           }
          ],
          "choropleth": [
           {
            "colorbar": {
             "outlinewidth": 0,
             "ticks": ""
            },
            "type": "choropleth"
           }
          ],
          "contour": [
           {
            "colorbar": {
             "outlinewidth": 0,
             "ticks": ""
            },
            "colorscale": [
             [
              0,
              "#0d0887"
             ],
             [
              0.1111111111111111,
              "#46039f"
             ],
             [
              0.2222222222222222,
              "#7201a8"
             ],
             [
              0.3333333333333333,
              "#9c179e"
             ],
             [
              0.4444444444444444,
              "#bd3786"
             ],
             [
              0.5555555555555556,
              "#d8576b"
             ],
             [
              0.6666666666666666,
              "#ed7953"
             ],
             [
              0.7777777777777778,
              "#fb9f3a"
             ],
             [
              0.8888888888888888,
              "#fdca26"
             ],
             [
              1,
              "#f0f921"
             ]
            ],
            "type": "contour"
           }
          ],
          "contourcarpet": [
           {
            "colorbar": {
             "outlinewidth": 0,
             "ticks": ""
            },
            "type": "contourcarpet"
           }
          ],
          "heatmap": [
           {
            "colorbar": {
             "outlinewidth": 0,
             "ticks": ""
            },
            "colorscale": [
             [
              0,
              "#0d0887"
             ],
             [
              0.1111111111111111,
              "#46039f"
             ],
             [
              0.2222222222222222,
              "#7201a8"
             ],
             [
              0.3333333333333333,
              "#9c179e"
             ],
             [
              0.4444444444444444,
              "#bd3786"
             ],
             [
              0.5555555555555556,
              "#d8576b"
             ],
             [
              0.6666666666666666,
              "#ed7953"
             ],
             [
              0.7777777777777778,
              "#fb9f3a"
             ],
             [
              0.8888888888888888,
              "#fdca26"
             ],
             [
              1,
              "#f0f921"
             ]
            ],
            "type": "heatmap"
           }
          ],
          "heatmapgl": [
           {
            "colorbar": {
             "outlinewidth": 0,
             "ticks": ""
            },
            "colorscale": [
             [
              0,
              "#0d0887"
             ],
             [
              0.1111111111111111,
              "#46039f"
             ],
             [
              0.2222222222222222,
              "#7201a8"
             ],
             [
              0.3333333333333333,
              "#9c179e"
             ],
             [
              0.4444444444444444,
              "#bd3786"
             ],
             [
              0.5555555555555556,
              "#d8576b"
             ],
             [
              0.6666666666666666,
              "#ed7953"
             ],
             [
              0.7777777777777778,
              "#fb9f3a"
             ],
             [
              0.8888888888888888,
              "#fdca26"
             ],
             [
              1,
              "#f0f921"
             ]
            ],
            "type": "heatmapgl"
           }
          ],
          "histogram": [
           {
            "marker": {
             "colorbar": {
              "outlinewidth": 0,
              "ticks": ""
             }
            },
            "type": "histogram"
           }
          ],
          "histogram2d": [
           {
            "colorbar": {
             "outlinewidth": 0,
             "ticks": ""
            },
            "colorscale": [
             [
              0,
              "#0d0887"
             ],
             [
              0.1111111111111111,
              "#46039f"
             ],
             [
              0.2222222222222222,
              "#7201a8"
             ],
             [
              0.3333333333333333,
              "#9c179e"
             ],
             [
              0.4444444444444444,
              "#bd3786"
             ],
             [
              0.5555555555555556,
              "#d8576b"
             ],
             [
              0.6666666666666666,
              "#ed7953"
             ],
             [
              0.7777777777777778,
              "#fb9f3a"
             ],
             [
              0.8888888888888888,
              "#fdca26"
             ],
             [
              1,
              "#f0f921"
             ]
            ],
            "type": "histogram2d"
           }
          ],
          "histogram2dcontour": [
           {
            "colorbar": {
             "outlinewidth": 0,
             "ticks": ""
            },
            "colorscale": [
             [
              0,
              "#0d0887"
             ],
             [
              0.1111111111111111,
              "#46039f"
             ],
             [
              0.2222222222222222,
              "#7201a8"
             ],
             [
              0.3333333333333333,
              "#9c179e"
             ],
             [
              0.4444444444444444,
              "#bd3786"
             ],
             [
              0.5555555555555556,
              "#d8576b"
             ],
             [
              0.6666666666666666,
              "#ed7953"
             ],
             [
              0.7777777777777778,
              "#fb9f3a"
             ],
             [
              0.8888888888888888,
              "#fdca26"
             ],
             [
              1,
              "#f0f921"
             ]
            ],
            "type": "histogram2dcontour"
           }
          ],
          "mesh3d": [
           {
            "colorbar": {
             "outlinewidth": 0,
             "ticks": ""
            },
            "type": "mesh3d"
           }
          ],
          "parcoords": [
           {
            "line": {
             "colorbar": {
              "outlinewidth": 0,
              "ticks": ""
             }
            },
            "type": "parcoords"
           }
          ],
          "pie": [
           {
            "automargin": true,
            "type": "pie"
           }
          ],
          "scatter": [
           {
            "marker": {
             "colorbar": {
              "outlinewidth": 0,
              "ticks": ""
             }
            },
            "type": "scatter"
           }
          ],
          "scatter3d": [
           {
            "line": {
             "colorbar": {
              "outlinewidth": 0,
              "ticks": ""
             }
            },
            "marker": {
             "colorbar": {
              "outlinewidth": 0,
              "ticks": ""
             }
            },
            "type": "scatter3d"
           }
          ],
          "scattercarpet": [
           {
            "marker": {
             "colorbar": {
              "outlinewidth": 0,
              "ticks": ""
             }
            },
            "type": "scattercarpet"
           }
          ],
          "scattergeo": [
           {
            "marker": {
             "colorbar": {
              "outlinewidth": 0,
              "ticks": ""
             }
            },
            "type": "scattergeo"
           }
          ],
          "scattergl": [
           {
            "marker": {
             "colorbar": {
              "outlinewidth": 0,
              "ticks": ""
             }
            },
            "type": "scattergl"
           }
          ],
          "scattermapbox": [
           {
            "marker": {
             "colorbar": {
              "outlinewidth": 0,
              "ticks": ""
             }
            },
            "type": "scattermapbox"
           }
          ],
          "scatterpolar": [
           {
            "marker": {
             "colorbar": {
              "outlinewidth": 0,
              "ticks": ""
             }
            },
            "type": "scatterpolar"
           }
          ],
          "scatterpolargl": [
           {
            "marker": {
             "colorbar": {
              "outlinewidth": 0,
              "ticks": ""
             }
            },
            "type": "scatterpolargl"
           }
          ],
          "scatterternary": [
           {
            "marker": {
             "colorbar": {
              "outlinewidth": 0,
              "ticks": ""
             }
            },
            "type": "scatterternary"
           }
          ],
          "surface": [
           {
            "colorbar": {
             "outlinewidth": 0,
             "ticks": ""
            },
            "colorscale": [
             [
              0,
              "#0d0887"
             ],
             [
              0.1111111111111111,
              "#46039f"
             ],
             [
              0.2222222222222222,
              "#7201a8"
             ],
             [
              0.3333333333333333,
              "#9c179e"
             ],
             [
              0.4444444444444444,
              "#bd3786"
             ],
             [
              0.5555555555555556,
              "#d8576b"
             ],
             [
              0.6666666666666666,
              "#ed7953"
             ],
             [
              0.7777777777777778,
              "#fb9f3a"
             ],
             [
              0.8888888888888888,
              "#fdca26"
             ],
             [
              1,
              "#f0f921"
             ]
            ],
            "type": "surface"
           }
          ],
          "table": [
           {
            "cells": {
             "fill": {
              "color": "#EBF0F8"
             },
             "line": {
              "color": "white"
             }
            },
            "header": {
             "fill": {
              "color": "#C8D4E3"
             },
             "line": {
              "color": "white"
             }
            },
            "type": "table"
           }
          ]
         },
         "layout": {
          "annotationdefaults": {
           "arrowcolor": "#2a3f5f",
           "arrowhead": 0,
           "arrowwidth": 1
          },
          "autotypenumbers": "strict",
          "coloraxis": {
           "colorbar": {
            "outlinewidth": 0,
            "ticks": ""
           }
          },
          "colorscale": {
           "diverging": [
            [
             0,
             "#8e0152"
            ],
            [
             0.1,
             "#c51b7d"
            ],
            [
             0.2,
             "#de77ae"
            ],
            [
             0.3,
             "#f1b6da"
            ],
            [
             0.4,
             "#fde0ef"
            ],
            [
             0.5,
             "#f7f7f7"
            ],
            [
             0.6,
             "#e6f5d0"
            ],
            [
             0.7,
             "#b8e186"
            ],
            [
             0.8,
             "#7fbc41"
            ],
            [
             0.9,
             "#4d9221"
            ],
            [
             1,
             "#276419"
            ]
           ],
           "sequential": [
            [
             0,
             "#0d0887"
            ],
            [
             0.1111111111111111,
             "#46039f"
            ],
            [
             0.2222222222222222,
             "#7201a8"
            ],
            [
             0.3333333333333333,
             "#9c179e"
            ],
            [
             0.4444444444444444,
             "#bd3786"
            ],
            [
             0.5555555555555556,
             "#d8576b"
            ],
            [
             0.6666666666666666,
             "#ed7953"
            ],
            [
             0.7777777777777778,
             "#fb9f3a"
            ],
            [
             0.8888888888888888,
             "#fdca26"
            ],
            [
             1,
             "#f0f921"
            ]
           ],
           "sequentialminus": [
            [
             0,
             "#0d0887"
            ],
            [
             0.1111111111111111,
             "#46039f"
            ],
            [
             0.2222222222222222,
             "#7201a8"
            ],
            [
             0.3333333333333333,
             "#9c179e"
            ],
            [
             0.4444444444444444,
             "#bd3786"
            ],
            [
             0.5555555555555556,
             "#d8576b"
            ],
            [
             0.6666666666666666,
             "#ed7953"
            ],
            [
             0.7777777777777778,
             "#fb9f3a"
            ],
            [
             0.8888888888888888,
             "#fdca26"
            ],
            [
             1,
             "#f0f921"
            ]
           ]
          },
          "colorway": [
           "#636efa",
           "#EF553B",
           "#00cc96",
           "#ab63fa",
           "#FFA15A",
           "#19d3f3",
           "#FF6692",
           "#B6E880",
           "#FF97FF",
           "#FECB52"
          ],
          "font": {
           "color": "#2a3f5f"
          },
          "geo": {
           "bgcolor": "white",
           "lakecolor": "white",
           "landcolor": "#E5ECF6",
           "showlakes": true,
           "showland": true,
           "subunitcolor": "white"
          },
          "hoverlabel": {
           "align": "left"
          },
          "hovermode": "closest",
          "mapbox": {
           "style": "light"
          },
          "paper_bgcolor": "white",
          "plot_bgcolor": "#E5ECF6",
          "polar": {
           "angularaxis": {
            "gridcolor": "white",
            "linecolor": "white",
            "ticks": ""
           },
           "bgcolor": "#E5ECF6",
           "radialaxis": {
            "gridcolor": "white",
            "linecolor": "white",
            "ticks": ""
           }
          },
          "scene": {
           "xaxis": {
            "backgroundcolor": "#E5ECF6",
            "gridcolor": "white",
            "gridwidth": 2,
            "linecolor": "white",
            "showbackground": true,
            "ticks": "",
            "zerolinecolor": "white"
           },
           "yaxis": {
            "backgroundcolor": "#E5ECF6",
            "gridcolor": "white",
            "gridwidth": 2,
            "linecolor": "white",
            "showbackground": true,
            "ticks": "",
            "zerolinecolor": "white"
           },
           "zaxis": {
            "backgroundcolor": "#E5ECF6",
            "gridcolor": "white",
            "gridwidth": 2,
            "linecolor": "white",
            "showbackground": true,
            "ticks": "",
            "zerolinecolor": "white"
           }
          },
          "shapedefaults": {
           "line": {
            "color": "#2a3f5f"
           }
          },
          "ternary": {
           "aaxis": {
            "gridcolor": "white",
            "linecolor": "white",
            "ticks": ""
           },
           "baxis": {
            "gridcolor": "white",
            "linecolor": "white",
            "ticks": ""
           },
           "bgcolor": "#E5ECF6",
           "caxis": {
            "gridcolor": "white",
            "linecolor": "white",
            "ticks": ""
           }
          },
          "title": {
           "x": 0.05
          },
          "xaxis": {
           "automargin": true,
           "gridcolor": "white",
           "linecolor": "white",
           "ticks": "",
           "title": {
            "standoff": 15
           },
           "zerolinecolor": "white",
           "zerolinewidth": 2
          },
          "yaxis": {
           "automargin": true,
           "gridcolor": "white",
           "linecolor": "white",
           "ticks": "",
           "title": {
            "standoff": 15
           },
           "zerolinecolor": "white",
           "zerolinewidth": 2
          }
         }
        },
        "width": 1400,
        "xaxis": {
         "type": "category"
        }
       }
      }
     },
     "metadata": {}
    }
   ],
   "metadata": {}
  },
  {
   "cell_type": "markdown",
   "source": [
    "# Load Mutation and Clade information"
   ],
   "metadata": {}
  },
  {
   "cell_type": "code",
   "execution_count": 23,
   "source": [
    "import json\n",
    "with open(path + \"/Api/mutation_to_clade.json\", \"r\") as f:\n",
    "    mutation_to_clade = json.load(f)\n",
    "# mutation_to_clade"
   ],
   "outputs": [],
   "metadata": {}
  },
  {
   "cell_type": "code",
   "execution_count": 24,
   "source": [
    "import json\n",
    "with open(path + \"/Api/clade_to_mutation.json\", \"r\") as f:\n",
    "    clade_to_mutation = json.load(f)\n",
    "# clade_to_mutation"
   ],
   "outputs": [],
   "metadata": {}
  },
  {
   "cell_type": "markdown",
   "source": [
    "# Misc"
   ],
   "metadata": {
    "id": "present-princeton"
   }
  },
  {
   "cell_type": "code",
   "execution_count": 25,
   "source": [
    "import seaborn as sns\n",
    "import scipy\n",
    "import matplotlib.pyplot as plt"
   ],
   "outputs": [],
   "metadata": {
    "id": "tired-reserve"
   }
  },
  {
   "cell_type": "code",
   "execution_count": 26,
   "source": [
    "def applyMinMaxNorm(arr):\n",
    "    arr = np.array(arr)\n",
    "    ret = np.zeros(len(arr))\n",
    "    \n",
    "    mx = arr.max()\n",
    "    mn = arr.min()\n",
    "\n",
    "    for i in range(len(arr)):\n",
    "        ret[i] = (arr[i] - mn)/(mx - mn)\n",
    "    \n",
    "    return ret"
   ],
   "outputs": [],
   "metadata": {
    "id": "stylish-webster"
   }
  },
  {
   "cell_type": "code",
   "execution_count": 27,
   "source": [
    "# symptom = 'High fever'\n",
    "# mutation1 = 'ORF1b'\n",
    "# mutation2 = 'ORF3a'\n",
    "\n",
    "# limit = 14\n",
    "\n",
    "# x1 = applyMinMaxNorm(mutation_freq_arr[mutation1][:limit])\n",
    "# x2 = applyMinMaxNorm(mutation_freq_arr[mutation2][:limit])\n",
    "# y = applyMinMaxNorm(symptom_freq_arr[symptom][:limit])"
   ],
   "outputs": [],
   "metadata": {
    "id": "ideal-jewelry"
   }
  },
  {
   "cell_type": "code",
   "execution_count": 28,
   "source": [
    "# y"
   ],
   "outputs": [],
   "metadata": {
    "id": "adequate-virtue"
   }
  },
  {
   "cell_type": "code",
   "execution_count": 29,
   "source": [
    "# plt.rcParams[\"figure.figsize\"] = (20,10)\n",
    "# plt.plot(month_arr[:limit], x1, label=\"X1\", color=\"blue\")\n",
    "# plt.plot(month_arr[:limit], x2, label=\"X2\", color=\"blue\")\n",
    "# plt.plot(month_arr[:limit], y, label=\"Y\", color=\"red\")\n",
    "# plt.legend(loc=\"upper right\")"
   ],
   "outputs": [],
   "metadata": {
    "id": "democratic-episode"
   }
  },
  {
   "cell_type": "markdown",
   "source": [
    "# Multiple Regression"
   ],
   "metadata": {
    "id": "virgin-recovery"
   }
  },
  {
   "cell_type": "code",
   "execution_count": 30,
   "source": [
    "from sklearn import linear_model\n",
    "from sklearn.metrics import mean_squared_error"
   ],
   "outputs": [],
   "metadata": {
    "id": "exceptional-arizona"
   }
  },
  {
   "cell_type": "code",
   "execution_count": 31,
   "source": [
    "def getFeatureVector(feature_arr):\n",
    "    ln = len(feature_arr[0])\n",
    "    ret = []\n",
    "    for i in range(ln):\n",
    "        ret.append([])\n",
    "        \n",
    "    for arr in feature_arr:\n",
    "        for i in range(len(arr)):\n",
    "            ret[i].append(arr[i])\n",
    "    return np.array(ret)"
   ],
   "outputs": [],
   "metadata": {
    "id": "conventional-silicon"
   }
  },
  {
   "cell_type": "code",
   "execution_count": 32,
   "source": [
    "# print(getFeatureVector([x1,x2]).shape)\n",
    "# getFeatureVector([x1,x2])"
   ],
   "outputs": [],
   "metadata": {
    "id": "actual-profession"
   }
  },
  {
   "cell_type": "code",
   "execution_count": 33,
   "source": [
    "# regr = linear_model.LinearRegression()\n",
    "# X = getFeatureVector([x1,x2])\n",
    "# print(X.shape)\n",
    "# regr.fit(X, y)"
   ],
   "outputs": [],
   "metadata": {
    "id": "adjacent-array"
   }
  },
  {
   "cell_type": "code",
   "execution_count": 34,
   "source": [
    "# print(regr.coef_)\n",
    "# print(regr.intercept_)\n",
    "# print(regr.score(X,y))"
   ],
   "outputs": [],
   "metadata": {
    "id": "right-differential"
   }
  },
  {
   "cell_type": "code",
   "execution_count": 35,
   "source": [
    "# print(regr.coef_[0])"
   ],
   "outputs": [],
   "metadata": {
    "id": "superb-prescription"
   }
  },
  {
   "cell_type": "code",
   "execution_count": 36,
   "source": [
    "# y_pred = regr.predict(X)\n",
    "# mean_squared_error(y_pred, y)"
   ],
   "outputs": [],
   "metadata": {
    "id": "understood-recommendation"
   }
  },
  {
   "cell_type": "code",
   "execution_count": 37,
   "source": [
    "def getXY(mutation_arr, symptom, limit = -1):\n",
    "    y = applyMinMaxNorm(symptom_freq_arr[symptom])\n",
    "    xrr = []\n",
    "    for mutation in mutation_arr:\n",
    "        x = applyMinMaxNorm(mutation_freq_arr[mutation])\n",
    "        xrr.append(x)\n",
    "        \n",
    "    if(limit != -1):\n",
    "        y = y[:limit]\n",
    "        for i in range(len(xrr)):\n",
    "            xrr[i] = xrr[i][:limit]\n",
    "    return xrr, y"
   ],
   "outputs": [],
   "metadata": {
    "id": "reliable-hearts"
   }
  },
  {
   "cell_type": "code",
   "execution_count": 62,
   "source": [
    "image_folder_path = path + \"/Figures/OneSymp__ManyMut/\"\n",
    "\n",
    "def plotFormattedData(mutation_arr, symptom, limit = -1, savefig = False):\n",
    "    xrr, y = getXY(mutation_arr, symptom, limit)\n",
    "    month_arr = list(set(list(clade_df['month'])))\n",
    "    month_arr = sorted(month_arr)\n",
    "    if(limit!=-1):\n",
    "        month_arr = month_arr[:limit]\n",
    "    \n",
    "    for i in range(len(mutation_arr)):\n",
    "        mutation = mutation_arr[i]\n",
    "        x = xrr[i]\n",
    "        plt.plot(month_arr, x, label=\"{}_{}\".format(mutation, mutation_to_clade[mutation]))\n",
    "    \n",
    "    plt.plot(month_arr, y, label=symptom, linewidth=5)\n",
    "    plt.legend(loc=\"upper right\")\n",
    "    if(savefig):\n",
    "        plt.savefig(image_folder_path + symptom+\".png\")\n",
    "#     return plt\n",
    "    plt.show()"
   ],
   "outputs": [],
   "metadata": {
    "id": "temporal-draft"
   }
  },
  {
   "cell_type": "code",
   "execution_count": 63,
   "source": [
    "def performMultipleRegression(mutation_arr, symptom, limit = -1):\n",
    "    \n",
    "    xrr, y = getXY(mutation_arr, symptom, limit)\n",
    "            \n",
    "    X = getFeatureVector(xrr)\n",
    "#     print(X.shape, y.shape)\n",
    "    regr = linear_model.LinearRegression()\n",
    "    regr.fit(X,y)\n",
    "    \n",
    "    coef = regr.coef_\n",
    "    r_squared = regr.score(X, y)\n",
    "    y_pred = regr.predict(X)\n",
    "    mse = mean_squared_error(y_pred, y)\n",
    "    \n",
    "    weights = {}\n",
    "    for i in range(len(mutation_arr)):\n",
    "        weights[mutation_arr[i]] = coef[i]\n",
    "        \n",
    "    return {\n",
    "        \"weights\"  : weights,\n",
    "        \"r_squared\": r_squared,\n",
    "        \"mse\"      : mse,\n",
    "        \"mutations\": mutation_arr\n",
    "    }"
   ],
   "outputs": [],
   "metadata": {
    "id": "comparative-sight"
   }
  },
  {
   "cell_type": "code",
   "execution_count": 64,
   "source": [
    "##########################################################################################"
   ],
   "outputs": [],
   "metadata": {
    "id": "concerned-sapphire"
   }
  },
  {
   "cell_type": "code",
   "execution_count": 65,
   "source": [
    "for symp in symptom_freq_arr:\n",
    "    print(symp)"
   ],
   "outputs": [
    {
     "output_type": "stream",
     "name": "stdout",
     "text": [
      "Feeling pain and pressure in chest\n",
      "Not getting smell\n",
      "Dry cough\n",
      "Diabetes\n",
      "Kidney problem\n",
      "Fever\n",
      "Sore throat\n",
      "Difficulty in breathing\n",
      "High blood pressure\n",
      "High fever\n",
      "Weakness\n",
      "Itching eyes or turning red\n",
      "Sleepiness\n",
      "Respiratory illness\n",
      "Feeling testless\n",
      "Muscle pain\n",
      "Abdominal pain, nausea or thin closet\n",
      "Cancer\n",
      "Heart diseases\n"
     ]
    }
   ],
   "metadata": {
    "colab": {
     "base_uri": "https://localhost:8080/"
    },
    "id": "efficient-insurance",
    "outputId": "e0f6351a-453e-44f2-cbd9-0e411232a80c"
   }
  },
  {
   "cell_type": "code",
   "execution_count": 66,
   "source": [
    "symptom = \"Feeling pain and pressure in chest\"\n",
    "limit = -1"
   ],
   "outputs": [],
   "metadata": {
    "id": "surrounded-string"
   }
  },
  {
   "cell_type": "code",
   "execution_count": 67,
   "source": [
    "##########################################################################################"
   ],
   "outputs": [],
   "metadata": {
    "id": "above-economics"
   }
  },
  {
   "cell_type": "markdown",
   "source": [
    "# Filter Positive Slopes"
   ],
   "metadata": {
    "id": "conceptual-summer"
   }
  },
  {
   "cell_type": "code",
   "execution_count": 68,
   "source": [
    "mutation_arr = []\n",
    "has_positive_slopes = []\n",
    "for mutation in mutation_freq_arr:\n",
    "    mutation_arr.append(mutation)\n",
    "    reg_vals = performMultipleRegression([mutation], symptom, limit)\n",
    "    weight = -1\n",
    "    r_sq = reg_vals[\"r_squared\"]\n",
    "#     print(reg_vals)\n",
    "    for key in reg_vals['weights']:\n",
    "        weight = reg_vals['weights'][key]\n",
    "    if(weight > 0 and  r_sq > .2):\n",
    "        has_positive_slopes.append(mutation)\n",
    "        print(mutation, mutation_to_clade[mutation], weight, r_sq , \" >>>> \", weight > 0 and  r_sq > .4)\n",
    "#     break\n",
    "\n",
    "print(has_positive_slopes)\n",
    "len(has_positive_slopes)"
   ],
   "outputs": [
    {
     "output_type": "stream",
     "name": "stdout",
     "text": [
      "N:G204R ['20B', '20I/501Y.V1', '20J/501Y.V3', '20A'] 0.3826202583008898 0.2383378628052123  >>>>  False\n",
      "N:R203K ['20B', '20I/501Y.V1', '20J/501Y.V3', '20A'] 0.38300433668722184 0.23846922444212948  >>>>  False\n",
      "ORF1a:I300F ['20B', '20A'] 0.3520801614904831 0.22828358656357006  >>>>  False\n",
      "ORF1b:R2257S ['20B', '20A'] 0.32357248929160387 0.20302073440594492  >>>>  False\n",
      "['N:G204R', 'N:R203K', 'ORF1a:I300F', 'ORF1b:R2257S']\n"
     ]
    },
    {
     "output_type": "execute_result",
     "data": {
      "text/plain": [
       "4"
      ]
     },
     "metadata": {},
     "execution_count": 68
    }
   ],
   "metadata": {
    "colab": {
     "base_uri": "https://localhost:8080/"
    },
    "id": "dominican-smoke",
    "outputId": "ceecc037-dc65-4669-aaaa-9e972f050560"
   }
  },
  {
   "cell_type": "code",
   "execution_count": 70,
   "source": [
    "plotFormattedData(has_positive_slopes, symptom, limit, savefig = True)"
   ],
   "outputs": [
    {
     "output_type": "display_data",
     "data": {
      "image/png": "[encoded data removed]",
      "text/plain": [
       "<Figure size 1440x720 with 1 Axes>"
      ]
     },
     "metadata": {
      "needs_background": "light"
     }
    }
   ],
   "metadata": {
    "colab": {
     "base_uri": "https://localhost:8080/",
     "height": 592
    },
    "id": "least-congress",
    "outputId": "201e1bb0-d194-4710-e222-b040f54fde92"
   }
  },
  {
   "cell_type": "code",
   "execution_count": 46,
   "source": [
    "# plotFormattedData(['N:G204R', 'N:R203K'], symptom, limit, savefig = False)"
   ],
   "outputs": [],
   "metadata": {}
  },
  {
   "cell_type": "code",
   "execution_count": 47,
   "source": [
    "performMultipleRegression(has_positive_slopes, symptom)"
   ],
   "outputs": [
    {
     "output_type": "execute_result",
     "data": {
      "text/plain": [
       "{'weights': {'N:G204R': 167.26727935158752,\n",
       "  'N:R203K': -167.11104017515737,\n",
       "  'ORF1a:I300F': -0.03761571907923143,\n",
       "  'N:S194L': 0.1790650045938184,\n",
       "  'ORF1b:R2257S': 0.20994932647027945,\n",
       "  'S:Q677H': 0.06998683123158925,\n",
       "  'ORF8:E64*': 0.2448754448329018},\n",
       " 'r_squared': 0.8238307508943918,\n",
       " 'mse': 0.014344465526577421,\n",
       " 'mutations': ['N:G204R',\n",
       "  'N:R203K',\n",
       "  'ORF1a:I300F',\n",
       "  'N:S194L',\n",
       "  'ORF1b:R2257S',\n",
       "  'S:Q677H',\n",
       "  'ORF8:E64*']}"
      ]
     },
     "metadata": {},
     "execution_count": 47
    }
   ],
   "metadata": {
    "colab": {
     "base_uri": "https://localhost:8080/"
    },
    "id": "maritime-activation",
    "outputId": "8bb8a9dd-5cd9-4164-a26c-ded492e757c7"
   }
  },
  {
   "cell_type": "markdown",
   "source": [
    "# Check all combinations"
   ],
   "metadata": {
    "id": "concerned-advertiser"
   }
  },
  {
   "cell_type": "code",
   "execution_count": 48,
   "source": [
    "import itertools\n",
    "from operator import itemgetter"
   ],
   "outputs": [],
   "metadata": {
    "id": "overall-adobe"
   }
  },
  {
   "cell_type": "code",
   "execution_count": 49,
   "source": [
    "all_combinations = []\n",
    "combination_limit = 3\n",
    "for i in range(1, min(combination_limit, len(has_positive_slopes))+1):\n",
    "    current_combinations = itertools.combinations(has_positive_slopes, i)\n",
    "    for comb in current_combinations:\n",
    "        print(list(comb))\n",
    "        all_combinations.append(list(comb))\n",
    "all_combinations"
   ],
   "outputs": [
    {
     "output_type": "stream",
     "name": "stdout",
     "text": [
      "['N:G204R']\n",
      "['N:R203K']\n",
      "['ORF1a:I300F']\n",
      "['N:S194L']\n",
      "['ORF1b:R2257S']\n",
      "['S:Q677H']\n",
      "['ORF8:E64*']\n",
      "['N:G204R', 'N:R203K']\n",
      "['N:G204R', 'ORF1a:I300F']\n",
      "['N:G204R', 'N:S194L']\n",
      "['N:G204R', 'ORF1b:R2257S']\n",
      "['N:G204R', 'S:Q677H']\n",
      "['N:G204R', 'ORF8:E64*']\n",
      "['N:R203K', 'ORF1a:I300F']\n",
      "['N:R203K', 'N:S194L']\n",
      "['N:R203K', 'ORF1b:R2257S']\n",
      "['N:R203K', 'S:Q677H']\n",
      "['N:R203K', 'ORF8:E64*']\n",
      "['ORF1a:I300F', 'N:S194L']\n",
      "['ORF1a:I300F', 'ORF1b:R2257S']\n",
      "['ORF1a:I300F', 'S:Q677H']\n",
      "['ORF1a:I300F', 'ORF8:E64*']\n",
      "['N:S194L', 'ORF1b:R2257S']\n",
      "['N:S194L', 'S:Q677H']\n",
      "['N:S194L', 'ORF8:E64*']\n",
      "['ORF1b:R2257S', 'S:Q677H']\n",
      "['ORF1b:R2257S', 'ORF8:E64*']\n",
      "['S:Q677H', 'ORF8:E64*']\n",
      "['N:G204R', 'N:R203K', 'ORF1a:I300F']\n",
      "['N:G204R', 'N:R203K', 'N:S194L']\n",
      "['N:G204R', 'N:R203K', 'ORF1b:R2257S']\n",
      "['N:G204R', 'N:R203K', 'S:Q677H']\n",
      "['N:G204R', 'N:R203K', 'ORF8:E64*']\n",
      "['N:G204R', 'ORF1a:I300F', 'N:S194L']\n",
      "['N:G204R', 'ORF1a:I300F', 'ORF1b:R2257S']\n",
      "['N:G204R', 'ORF1a:I300F', 'S:Q677H']\n",
      "['N:G204R', 'ORF1a:I300F', 'ORF8:E64*']\n",
      "['N:G204R', 'N:S194L', 'ORF1b:R2257S']\n",
      "['N:G204R', 'N:S194L', 'S:Q677H']\n",
      "['N:G204R', 'N:S194L', 'ORF8:E64*']\n",
      "['N:G204R', 'ORF1b:R2257S', 'S:Q677H']\n",
      "['N:G204R', 'ORF1b:R2257S', 'ORF8:E64*']\n",
      "['N:G204R', 'S:Q677H', 'ORF8:E64*']\n",
      "['N:R203K', 'ORF1a:I300F', 'N:S194L']\n",
      "['N:R203K', 'ORF1a:I300F', 'ORF1b:R2257S']\n",
      "['N:R203K', 'ORF1a:I300F', 'S:Q677H']\n",
      "['N:R203K', 'ORF1a:I300F', 'ORF8:E64*']\n",
      "['N:R203K', 'N:S194L', 'ORF1b:R2257S']\n",
      "['N:R203K', 'N:S194L', 'S:Q677H']\n",
      "['N:R203K', 'N:S194L', 'ORF8:E64*']\n",
      "['N:R203K', 'ORF1b:R2257S', 'S:Q677H']\n",
      "['N:R203K', 'ORF1b:R2257S', 'ORF8:E64*']\n",
      "['N:R203K', 'S:Q677H', 'ORF8:E64*']\n",
      "['ORF1a:I300F', 'N:S194L', 'ORF1b:R2257S']\n",
      "['ORF1a:I300F', 'N:S194L', 'S:Q677H']\n",
      "['ORF1a:I300F', 'N:S194L', 'ORF8:E64*']\n",
      "['ORF1a:I300F', 'ORF1b:R2257S', 'S:Q677H']\n",
      "['ORF1a:I300F', 'ORF1b:R2257S', 'ORF8:E64*']\n",
      "['ORF1a:I300F', 'S:Q677H', 'ORF8:E64*']\n",
      "['N:S194L', 'ORF1b:R2257S', 'S:Q677H']\n",
      "['N:S194L', 'ORF1b:R2257S', 'ORF8:E64*']\n",
      "['N:S194L', 'S:Q677H', 'ORF8:E64*']\n",
      "['ORF1b:R2257S', 'S:Q677H', 'ORF8:E64*']\n"
     ]
    },
    {
     "output_type": "execute_result",
     "data": {
      "text/plain": [
       "[['N:G204R'],\n",
       " ['N:R203K'],\n",
       " ['ORF1a:I300F'],\n",
       " ['N:S194L'],\n",
       " ['ORF1b:R2257S'],\n",
       " ['S:Q677H'],\n",
       " ['ORF8:E64*'],\n",
       " ['N:G204R', 'N:R203K'],\n",
       " ['N:G204R', 'ORF1a:I300F'],\n",
       " ['N:G204R', 'N:S194L'],\n",
       " ['N:G204R', 'ORF1b:R2257S'],\n",
       " ['N:G204R', 'S:Q677H'],\n",
       " ['N:G204R', 'ORF8:E64*'],\n",
       " ['N:R203K', 'ORF1a:I300F'],\n",
       " ['N:R203K', 'N:S194L'],\n",
       " ['N:R203K', 'ORF1b:R2257S'],\n",
       " ['N:R203K', 'S:Q677H'],\n",
       " ['N:R203K', 'ORF8:E64*'],\n",
       " ['ORF1a:I300F', 'N:S194L'],\n",
       " ['ORF1a:I300F', 'ORF1b:R2257S'],\n",
       " ['ORF1a:I300F', 'S:Q677H'],\n",
       " ['ORF1a:I300F', 'ORF8:E64*'],\n",
       " ['N:S194L', 'ORF1b:R2257S'],\n",
       " ['N:S194L', 'S:Q677H'],\n",
       " ['N:S194L', 'ORF8:E64*'],\n",
       " ['ORF1b:R2257S', 'S:Q677H'],\n",
       " ['ORF1b:R2257S', 'ORF8:E64*'],\n",
       " ['S:Q677H', 'ORF8:E64*'],\n",
       " ['N:G204R', 'N:R203K', 'ORF1a:I300F'],\n",
       " ['N:G204R', 'N:R203K', 'N:S194L'],\n",
       " ['N:G204R', 'N:R203K', 'ORF1b:R2257S'],\n",
       " ['N:G204R', 'N:R203K', 'S:Q677H'],\n",
       " ['N:G204R', 'N:R203K', 'ORF8:E64*'],\n",
       " ['N:G204R', 'ORF1a:I300F', 'N:S194L'],\n",
       " ['N:G204R', 'ORF1a:I300F', 'ORF1b:R2257S'],\n",
       " ['N:G204R', 'ORF1a:I300F', 'S:Q677H'],\n",
       " ['N:G204R', 'ORF1a:I300F', 'ORF8:E64*'],\n",
       " ['N:G204R', 'N:S194L', 'ORF1b:R2257S'],\n",
       " ['N:G204R', 'N:S194L', 'S:Q677H'],\n",
       " ['N:G204R', 'N:S194L', 'ORF8:E64*'],\n",
       " ['N:G204R', 'ORF1b:R2257S', 'S:Q677H'],\n",
       " ['N:G204R', 'ORF1b:R2257S', 'ORF8:E64*'],\n",
       " ['N:G204R', 'S:Q677H', 'ORF8:E64*'],\n",
       " ['N:R203K', 'ORF1a:I300F', 'N:S194L'],\n",
       " ['N:R203K', 'ORF1a:I300F', 'ORF1b:R2257S'],\n",
       " ['N:R203K', 'ORF1a:I300F', 'S:Q677H'],\n",
       " ['N:R203K', 'ORF1a:I300F', 'ORF8:E64*'],\n",
       " ['N:R203K', 'N:S194L', 'ORF1b:R2257S'],\n",
       " ['N:R203K', 'N:S194L', 'S:Q677H'],\n",
       " ['N:R203K', 'N:S194L', 'ORF8:E64*'],\n",
       " ['N:R203K', 'ORF1b:R2257S', 'S:Q677H'],\n",
       " ['N:R203K', 'ORF1b:R2257S', 'ORF8:E64*'],\n",
       " ['N:R203K', 'S:Q677H', 'ORF8:E64*'],\n",
       " ['ORF1a:I300F', 'N:S194L', 'ORF1b:R2257S'],\n",
       " ['ORF1a:I300F', 'N:S194L', 'S:Q677H'],\n",
       " ['ORF1a:I300F', 'N:S194L', 'ORF8:E64*'],\n",
       " ['ORF1a:I300F', 'ORF1b:R2257S', 'S:Q677H'],\n",
       " ['ORF1a:I300F', 'ORF1b:R2257S', 'ORF8:E64*'],\n",
       " ['ORF1a:I300F', 'S:Q677H', 'ORF8:E64*'],\n",
       " ['N:S194L', 'ORF1b:R2257S', 'S:Q677H'],\n",
       " ['N:S194L', 'ORF1b:R2257S', 'ORF8:E64*'],\n",
       " ['N:S194L', 'S:Q677H', 'ORF8:E64*'],\n",
       " ['ORF1b:R2257S', 'S:Q677H', 'ORF8:E64*']]"
      ]
     },
     "metadata": {},
     "execution_count": 49
    }
   ],
   "metadata": {
    "colab": {
     "base_uri": "https://localhost:8080/"
    },
    "id": "blessed-celebration",
    "outputId": "97bb0bdd-70a7-4f82-e3e9-f41a0e962fac"
   }
  },
  {
   "cell_type": "code",
   "execution_count": 50,
   "source": [
    "from tqdm import tqdm\n",
    "track = []\n",
    "\n",
    "for i in tqdm(range(len(all_combinations))):\n",
    "    comb = all_combinations[i]\n",
    "    reg_val = performMultipleRegression(comb, symptom, limit)\n",
    "#     print(reg_val)\n",
    "    track.append(reg_val)"
   ],
   "outputs": [
    {
     "output_type": "stream",
     "name": "stderr",
     "text": [
      "100%|██████████| 63/63 [00:00<00:00, 1495.74it/s]\n"
     ]
    }
   ],
   "metadata": {
    "colab": {
     "base_uri": "https://localhost:8080/"
    },
    "id": "jewish-australian",
    "outputId": "be82d426-f34e-4596-fb4e-c892b1e19c52"
   }
  },
  {
   "cell_type": "code",
   "execution_count": 51,
   "source": [
    "sorted(track, key=itemgetter('r_squared'), reverse=True)"
   ],
   "outputs": [
    {
     "output_type": "execute_result",
     "data": {
      "text/plain": [
       "[{'weights': {'N:G204R': 217.82422228743997,\n",
       "   'N:R203K': -217.57354925914197,\n",
       "   'S:Q677H': 0.42087960934353996},\n",
       "  'r_squared': 0.7365982768274085,\n",
       "  'mse': 0.021447312495640584,\n",
       "  'mutations': ['N:G204R', 'N:R203K', 'S:Q677H']},\n",
       " {'weights': {'N:G204R': 183.15768978780818,\n",
       "   'N:R203K': -182.9337551922942,\n",
       "   'ORF8:E64*': 0.5152227959052228},\n",
       "  'r_squared': 0.7344303643083694,\n",
       "  'mse': 0.02162383335017037,\n",
       "  'mutations': ['N:G204R', 'N:R203K', 'ORF8:E64*']},\n",
       " {'weights': {'N:G204R': 140.27375076264477,\n",
       "   'N:R203K': -139.9191036555001,\n",
       "   'ORF1b:R2257S': 0.3356267464085336},\n",
       "  'r_squared': 0.7307214913394539,\n",
       "  'mse': 0.02192582589833166,\n",
       "  'mutations': ['N:G204R', 'N:R203K', 'ORF1b:R2257S']},\n",
       " {'weights': {'ORF1a:I300F': 0.30299404008378605,\n",
       "   'ORF1b:R2257S': 0.20765858999367046,\n",
       "   'ORF8:E64*': 0.47435570062405036},\n",
       "  'r_squared': 0.7088175291200065,\n",
       "  'mse': 0.023709341651208388,\n",
       "  'mutations': ['ORF1a:I300F', 'ORF1b:R2257S', 'ORF8:E64*']},\n",
       " {'weights': {'N:G204R': 0.3504936239537489,\n",
       "   'ORF1b:R2257S': 0.279818403672277,\n",
       "   'ORF8:E64*': 0.30208148851972527},\n",
       "  'r_squared': 0.7084610070161983,\n",
       "  'mse': 0.023738371229602484,\n",
       "  'mutations': ['N:G204R', 'ORF1b:R2257S', 'ORF8:E64*']},\n",
       " {'weights': {'N:R203K': 0.3502201647508889,\n",
       "   'ORF1b:R2257S': 0.2799594503499212,\n",
       "   'ORF8:E64*': 0.3022980012474724},\n",
       "  'r_squared': 0.7080767191474054,\n",
       "  'mse': 0.02376966161719377,\n",
       "  'mutations': ['N:R203K', 'ORF1b:R2257S', 'ORF8:E64*']},\n",
       " {'weights': {'N:G204R': 0.3864799045193118,\n",
       "   'ORF1b:R2257S': 0.30912421828269093,\n",
       "   'S:Q677H': 0.20644332648300512},\n",
       "  'r_squared': 0.6995766064637527,\n",
       "  'mse': 0.02446177771567124,\n",
       "  'mutations': ['N:G204R', 'ORF1b:R2257S', 'S:Q677H']},\n",
       " {'weights': {'N:R203K': 0.38626618150100256,\n",
       "   'ORF1b:R2257S': 0.30935291901202433,\n",
       "   'S:Q677H': 0.20642381234667506},\n",
       "  'r_squared': 0.6991160735083124,\n",
       "  'mse': 0.02449927630941962,\n",
       "  'mutations': ['N:R203K', 'ORF1b:R2257S', 'S:Q677H']},\n",
       " {'weights': {'N:S194L': 0.31576746781804105,\n",
       "   'ORF1b:R2257S': 0.2416724642857941,\n",
       "   'ORF8:E64*': 0.3628874293875482},\n",
       "  'r_squared': 0.6954259231883209,\n",
       "  'mse': 0.024799744378175895,\n",
       "  'mutations': ['N:S194L', 'ORF1b:R2257S', 'ORF8:E64*']},\n",
       " {'weights': {'N:G204R': 0.3115271738383883,\n",
       "   'N:S194L': 0.2012723142108909,\n",
       "   'ORF1b:R2257S': 0.3328697576742442},\n",
       "  'r_squared': 0.690774087161953,\n",
       "  'mse': 0.02517851707462716,\n",
       "  'mutations': ['N:G204R', 'N:S194L', 'ORF1b:R2257S']},\n",
       " {'weights': {'N:R203K': 0.3110336372774718,\n",
       "   'N:S194L': 0.20170760240672783,\n",
       "   'ORF1b:R2257S': 0.3329814262448795},\n",
       "  'r_squared': 0.6904541836637905,\n",
       "  'mse': 0.02520456500708143,\n",
       "  'mutations': ['N:R203K', 'N:S194L', 'ORF1b:R2257S']},\n",
       " {'weights': {'N:G204R': 0.7511908864145571,\n",
       "   'ORF1a:I300F': -0.32042812430208123,\n",
       "   'ORF1b:R2257S': 0.3932787375487436},\n",
       "  'r_squared': 0.6850917564329333,\n",
       "  'mse': 0.02564119712615064,\n",
       "  'mutations': ['N:G204R', 'ORF1a:I300F', 'ORF1b:R2257S']},\n",
       " {'weights': {'N:R203K': 0.7490694482795657,\n",
       "   'ORF1a:I300F': -0.3181171336769561,\n",
       "   'ORF1b:R2257S': 0.3933834834264018},\n",
       "  'r_squared': 0.6843226118525099,\n",
       "  'mse': 0.02570382421898807,\n",
       "  'mutations': ['N:R203K', 'ORF1a:I300F', 'ORF1b:R2257S']},\n",
       " {'weights': {'ORF1a:I300F': 0.32875578197720834,\n",
       "   'ORF1b:R2257S': 0.25617395349424826,\n",
       "   'S:Q677H': 0.33664712854956164},\n",
       "  'r_squared': 0.6792360987473091,\n",
       "  'mse': 0.02611799021139857,\n",
       "  'mutations': ['ORF1a:I300F', 'ORF1b:R2257S', 'S:Q677H']},\n",
       " {'weights': {'ORF1a:I300F': 0.2540988578790797,\n",
       "   'N:S194L': 0.15891827621519872,\n",
       "   'ORF8:E64*': 0.5427536846215943},\n",
       "  'r_squared': 0.6751481451800362,\n",
       "  'mse': 0.026450849148572347,\n",
       "  'mutations': ['ORF1a:I300F', 'N:S194L', 'ORF8:E64*']},\n",
       " {'weights': {'N:R203K': -0.3801415978795758,\n",
       "   'ORF1a:I300F': 0.6537781812759161,\n",
       "   'ORF8:E64*': 0.7464000815447015},\n",
       "  'r_squared': 0.6746048083927781,\n",
       "  'mse': 0.026495089990000196,\n",
       "  'mutations': ['N:R203K', 'ORF1a:I300F', 'ORF8:E64*']},\n",
       " {'weights': {'N:G204R': -0.373720763158837,\n",
       "   'ORF1a:I300F': 0.6489418732887874,\n",
       "   'ORF8:E64*': 0.7440880538179019},\n",
       "  'r_squared': 0.6741333701113688,\n",
       "  'mse': 0.026533476542760788,\n",
       "  'mutations': ['N:G204R', 'ORF1a:I300F', 'ORF8:E64*']},\n",
       " {'weights': {'N:G204R': 0.4456799038271366,\n",
       "   'ORF1b:R2257S': 0.3678542532430181},\n",
       "  'r_squared': 0.6615566575789416,\n",
       "  'mse': 0.027557527109332302,\n",
       "  'mutations': ['N:G204R', 'ORF1b:R2257S']},\n",
       " {'weights': {'ORF1a:I300F': 0.3561027299643219,\n",
       "   'S:Q677H': 0.05573481474579945,\n",
       "   'ORF8:E64*': 0.5481490557141038},\n",
       "  'r_squared': 0.6611729437174135,\n",
       "  'mse': 0.027588770758758648,\n",
       "  'mutations': ['ORF1a:I300F', 'S:Q677H', 'ORF8:E64*']},\n",
       " {'weights': {'N:R203K': 0.445578518973781,\n",
       "   'ORF1b:R2257S': 0.36806844185251336},\n",
       "  'r_squared': 0.6611152451050945,\n",
       "  'mse': 0.027593468830411586,\n",
       "  'mutations': ['N:R203K', 'ORF1b:R2257S']},\n",
       " {'weights': {'ORF1a:I300F': 0.3530584246508985,\n",
       "   'ORF8:E64*': 0.6060322142412575},\n",
       "  'r_squared': 0.660240659757028,\n",
       "  'mse': 0.02766468136857634,\n",
       "  'mutations': ['ORF1a:I300F', 'ORF8:E64*']},\n",
       " {'weights': {'N:S194L': 0.4236564150225701,\n",
       "   'S:Q677H': -0.3417023776467179,\n",
       "   'ORF8:E64*': 0.8179775187731032},\n",
       "  'r_squared': 0.6576189989225443,\n",
       "  'mse': 0.02787814838199413,\n",
       "  'mutations': ['N:S194L', 'S:Q677H', 'ORF8:E64*']},\n",
       " {'weights': {'N:G204R': 0.21250067455395413,\n",
       "   'N:S194L': 0.23947762858982294,\n",
       "   'ORF8:E64*': 0.44520565234818676},\n",
       "  'r_squared': 0.6562730812965893,\n",
       "  'mse': 0.027987738841652333,\n",
       "  'mutations': ['N:G204R', 'N:S194L', 'ORF8:E64*']},\n",
       " {'weights': {'N:R203K': 0.21164794612988105,\n",
       "   'N:S194L': 0.24004860023791402,\n",
       "   'ORF8:E64*': 0.4454935509450984},\n",
       "  'r_squared': 0.6559913537871042,\n",
       "  'mse': 0.02801067831927522,\n",
       "  'mutations': ['N:R203K', 'N:S194L', 'ORF8:E64*']},\n",
       " {'weights': {'N:G204R': 175.3854737461095,\n",
       "   'N:R203K': -175.1767205608931,\n",
       "   'N:S194L': 0.32275136603582644},\n",
       "  'r_squared': 0.644196434721244,\n",
       "  'mse': 0.028971071865753793,\n",
       "  'mutations': ['N:G204R', 'N:R203K', 'N:S194L']},\n",
       " {'weights': {'N:S194L': 0.3373774093306312,\n",
       "   'ORF1b:R2257S': 0.31408106895789967,\n",
       "   'S:Q677H': 0.15860070898170722},\n",
       "  'r_squared': 0.6406439481325961,\n",
       "  'mse': 0.029260330755504417,\n",
       "  'mutations': ['N:S194L', 'ORF1b:R2257S', 'S:Q677H']},\n",
       " {'weights': {'ORF1a:I300F': 0.13171568337789527,\n",
       "   'N:S194L': 0.3135942511853645,\n",
       "   'ORF1b:R2257S': 0.3345648056747911},\n",
       "  'r_squared': 0.6346231290240378,\n",
       "  'mse': 0.02975057200125496,\n",
       "  'mutations': ['ORF1a:I300F', 'N:S194L', 'ORF1b:R2257S']},\n",
       " {'weights': {'N:S194L': 0.3594286350386922, 'ORF8:E64*': 0.510091189364377},\n",
       "  'r_squared': 0.626852019884353,\n",
       "  'mse': 0.0303833294644525,\n",
       "  'mutations': ['N:S194L', 'ORF8:E64*']},\n",
       " {'weights': {'N:S194L': 0.40625465648019965,\n",
       "   'ORF1b:R2257S': 0.3471066285919966},\n",
       "  'r_squared': 0.6216752342943332,\n",
       "  'mse': 0.030804845834713046,\n",
       "  'mutations': ['N:S194L', 'ORF1b:R2257S']},\n",
       " {'weights': {'N:G204R': 0.3675263058698429,\n",
       "   'S:Q677H': 0.026876719164493332,\n",
       "   'ORF8:E64*': 0.4655491052042006},\n",
       "  'r_squared': 0.6140320628866736,\n",
       "  'mse': 0.03142718605201835,\n",
       "  'mutations': ['N:G204R', 'S:Q677H', 'ORF8:E64*']},\n",
       " {'weights': {'N:G204R': 0.3661072912229495, 'ORF8:E64*': 0.4938602242165001},\n",
       "  'r_squared': 0.6138141557610906,\n",
       "  'mse': 0.031444928996753545,\n",
       "  'mutations': ['N:G204R', 'ORF8:E64*']},\n",
       " {'weights': {'N:R203K': 0.36713012042288073,\n",
       "   'S:Q677H': 0.026382073111126614,\n",
       "   'ORF8:E64*': 0.4664588021958635},\n",
       "  'r_squared': 0.6135409262623429,\n",
       "  'mse': 0.03146717652942753,\n",
       "  'mutations': ['N:R203K', 'S:Q677H', 'ORF8:E64*']},\n",
       " {'weights': {'N:R203K': 0.3657441678980708, 'ORF8:E64*': 0.4942437552249942},\n",
       "  'r_squared': 0.6133309434102545,\n",
       "  'mse': 0.03148427424539242,\n",
       "  'mutations': ['N:R203K', 'ORF8:E64*']},\n",
       " {'weights': {'ORF1a:I300F': 0.37754406040998156,\n",
       "   'N:S194L': 0.04541653190156022,\n",
       "   'S:Q677H': 0.42622763689261683},\n",
       "  'r_squared': 0.599638518914513,\n",
       "  'mse': 0.032599170926575896,\n",
       "  'mutations': ['ORF1a:I300F', 'N:S194L', 'S:Q677H']},\n",
       " {'weights': {'N:G204R': 0.0041944662221578876,\n",
       "   'ORF1a:I300F': 0.40240171161012844,\n",
       "   'S:Q677H': 0.44837562736018943},\n",
       "  'r_squared': 0.5987971799829914,\n",
       "  'mse': 0.03266767639708592,\n",
       "  'mutations': ['N:G204R', 'ORF1a:I300F', 'S:Q677H']},\n",
       " {'weights': {'N:R203K': -0.002050233326375306,\n",
       "   'ORF1a:I300F': 0.4075457510825901,\n",
       "   'S:Q677H': 0.4500842674519409},\n",
       "  'r_squared': 0.5987955374797684,\n",
       "  'mse': 0.032667810136833245,\n",
       "  'mutations': ['N:R203K', 'ORF1a:I300F', 'S:Q677H']},\n",
       " {'weights': {'ORF1a:I300F': 0.40585785162637433,\n",
       "   'S:Q677H': 0.44952310048149413},\n",
       "  'r_squared': 0.5987950232714514,\n",
       "  'mse': 0.03266785200590809,\n",
       "  'mutations': ['ORF1a:I300F', 'S:Q677H']},\n",
       " {'weights': {'N:G204R': 0.33806230205971566,\n",
       "   'N:S194L': 0.1785009452172476,\n",
       "   'S:Q677H': 0.2687365023590216},\n",
       "  'r_squared': 0.5922841499005285,\n",
       "  'mse': 0.03319799559845486,\n",
       "  'mutations': ['N:G204R', 'N:S194L', 'S:Q677H']},\n",
       " {'weights': {'N:R203K': 0.33729335053144094,\n",
       "   'N:S194L': 0.17925323172044708,\n",
       "   'S:Q677H': 0.2685953044450752},\n",
       "  'r_squared': 0.5917886924729401,\n",
       "  'mse': 0.0332383378944345,\n",
       "  'mutations': ['N:R203K', 'N:S194L', 'S:Q677H']},\n",
       " {'weights': {'ORF1b:R2257S': 0.2962314688279837,\n",
       "   'S:Q677H': -0.0022169671236250544,\n",
       "   'ORF8:E64*': 0.5232589106645401},\n",
       "  'r_squared': 0.5833266670680932,\n",
       "  'mse': 0.03392735276122366,\n",
       "  'mutations': ['ORF1b:R2257S', 'S:Q677H', 'ORF8:E64*']},\n",
       " {'weights': {'ORF1b:R2257S': 0.296299139000107,\n",
       "   'ORF8:E64*': 0.5209518272441094},\n",
       "  'r_squared': 0.5833251759794581,\n",
       "  'mse': 0.0339274741721375,\n",
       "  'mutations': ['ORF1b:R2257S', 'ORF8:E64*']},\n",
       " {'weights': {'N:G204R': 0.4412498382912602, 'S:Q677H': 0.33740074282015536},\n",
       "  'r_squared': 0.5726322055686315,\n",
       "  'mse': 0.03479814227235097,\n",
       "  'mutations': ['N:G204R', 'S:Q677H']},\n",
       " {'weights': {'N:G204R': 176.9180378801977,\n",
       "   'N:R203K': -176.29713060377412,\n",
       "   'ORF1a:I300F': -0.18237472551761946},\n",
       "  'r_squared': 0.5722251956591291,\n",
       "  'mse': 0.03483128278719947,\n",
       "  'mutations': ['N:G204R', 'N:R203K', 'ORF1a:I300F']},\n",
       " {'weights': {'N:R203K': 0.4409883259769378, 'S:Q677H': 0.337517198812125},\n",
       "  'r_squared': 0.5719663740580497,\n",
       "  'mse': 0.03485235716625861,\n",
       "  'mutations': ['N:R203K', 'S:Q677H']},\n",
       " {'weights': {'ORF1a:I300F': 0.33677044377395454,\n",
       "   'ORF1b:R2257S': 0.37665421612725536},\n",
       "  'r_squared': 0.5664041173179054,\n",
       "  'mse': 0.035305260272016546,\n",
       "  'mutations': ['ORF1a:I300F', 'ORF1b:R2257S']},\n",
       " {'weights': {'N:G204R': 172.6829777633661, 'N:R203K': -172.23791055119295},\n",
       "  'r_squared': 0.5643444118998484,\n",
       "  'mse': 0.035472970434341826,\n",
       "  'mutations': ['N:G204R', 'N:R203K']},\n",
       " {'weights': {'N:G204R': 0.6048587594857449,\n",
       "   'ORF1a:I300F': -0.3029179275609235,\n",
       "   'N:S194L': 0.3620953729047747},\n",
       "  'r_squared': 0.5535888838141262,\n",
       "  'mse': 0.03634873225219058,\n",
       "  'mutations': ['N:G204R', 'ORF1a:I300F', 'N:S194L']},\n",
       " {'weights': {'N:R203K': 0.6019283073893544,\n",
       "   'ORF1a:I300F': -0.3000804416211575,\n",
       "   'N:S194L': 0.362256007524216},\n",
       "  'r_squared': 0.5527926535200866,\n",
       "  'mse': 0.03641356478148871,\n",
       "  'mutations': ['N:R203K', 'ORF1a:I300F', 'N:S194L']},\n",
       " {'weights': {'N:G204R': 0.34187933680316074, 'N:S194L': 0.3152363054573702},\n",
       "  'r_squared': 0.5333669790460169,\n",
       "  'mse': 0.037995287580663284,\n",
       "  'mutations': ['N:G204R', 'N:S194L']},\n",
       " {'weights': {'N:R203K': 0.3412513899511386, 'N:S194L': 0.315821873970048},\n",
       "  'r_squared': 0.5329341949916717,\n",
       "  'mse': 0.03803052673834561,\n",
       "  'mutations': ['N:R203K', 'N:S194L']},\n",
       " {'weights': {'ORF1b:R2257S': 0.36765112221162116,\n",
       "   'S:Q677H': 0.34750364993194005},\n",
       "  'r_squared': 0.5299785890209685,\n",
       "  'mse': 0.038271185015383964,\n",
       "  'mutations': ['ORF1b:R2257S', 'S:Q677H']},\n",
       " {'weights': {'N:S194L': 0.4050043315448561, 'S:Q677H': 0.272943994858587},\n",
       "  'r_squared': 0.5105865673676774,\n",
       "  'mse': 0.039850167655705745,\n",
       "  'mutations': ['N:S194L', 'S:Q677H']},\n",
       " {'weights': {'ORF1a:I300F': 0.1915715011216648,\n",
       "   'N:S194L': 0.40436436626313194},\n",
       "  'r_squared': 0.4776636212817039,\n",
       "  'mse': 0.04253089694053403,\n",
       "  'mutations': ['ORF1a:I300F', 'N:S194L']},\n",
       " {'weights': {'S:Q677H': -0.0382056036692021, 'ORF8:E64*': 0.7738282411735485},\n",
       "  'r_squared': 0.47736628598256825,\n",
       "  'mse': 0.04255510727218919,\n",
       "  'mutations': ['S:Q677H', 'ORF8:E64*']},\n",
       " {'weights': {'ORF8:E64*': 0.7349117453073717},\n",
       "  'r_squared': 0.476921805633883,\n",
       "  'mse': 0.04259129879296438,\n",
       "  'mutations': ['ORF8:E64*']},\n",
       " {'weights': {'N:G204R': 0.6911756051074005,\n",
       "   'ORF1a:I300F': -0.12298835793891005},\n",
       "  'r_squared': 0.46077157783705003,\n",
       "  'mse': 0.04390632049541352,\n",
       "  'mutations': ['N:G204R', 'ORF1a:I300F']},\n",
       " {'weights': {'N:R203K': 0.6884415685365106,\n",
       "   'ORF1a:I300F': -0.12014906692540413},\n",
       "  'r_squared': 0.4598975138098742,\n",
       "  'mse': 0.043977490585366784,\n",
       "  'mutations': ['N:R203K', 'ORF1a:I300F']},\n",
       " {'weights': {'N:G204R': 0.5705989287704771},\n",
       "  'r_squared': 0.45716050267567065,\n",
       "  'mse': 0.04420034992125977,\n",
       "  'mutations': ['N:G204R']},\n",
       " {'weights': {'N:R203K': 0.5705697890342443},\n",
       "  'r_squared': 0.4564489155515177,\n",
       "  'mse': 0.04425829043598291,\n",
       "  'mutations': ['N:R203K']},\n",
       " {'weights': {'N:S194L': 0.5465029850302775},\n",
       "  'r_squared': 0.4497993265567225,\n",
       "  'mse': 0.04479972885719437,\n",
       "  'mutations': ['N:S194L']},\n",
       " {'weights': {'ORF1b:R2257S': 0.4949221263656863},\n",
       "  'r_squared': 0.4096572381724025,\n",
       "  'mse': 0.0480682720673009,\n",
       "  'mutations': ['ORF1b:R2257S']},\n",
       " {'weights': {'ORF1a:I300F': 0.47604809162953476},\n",
       "  'r_squared': 0.35995060899518017,\n",
       "  'mse': 0.052115601736326185,\n",
       "  'mutations': ['ORF1a:I300F']},\n",
       " {'weights': {'S:Q677H': 0.531980250171569},\n",
       "  'r_squared': 0.34546385979584426,\n",
       "  'mse': 0.053295175785356017,\n",
       "  'mutations': ['S:Q677H']}]"
      ]
     },
     "metadata": {},
     "execution_count": 51
    }
   ],
   "metadata": {
    "colab": {
     "base_uri": "https://localhost:8080/"
    },
    "id": "faced-afghanistan",
    "outputId": "899034d3-2347-429c-8b00-a646ee357eb5"
   }
  },
  {
   "cell_type": "code",
   "execution_count": 52,
   "source": [
    "sorted(track, key=itemgetter('mse'), reverse=False)"
   ],
   "outputs": [
    {
     "output_type": "execute_result",
     "data": {
      "text/plain": [
       "[{'weights': {'N:G204R': 217.82422228743997,\n",
       "   'N:R203K': -217.57354925914197,\n",
       "   'S:Q677H': 0.42087960934353996},\n",
       "  'r_squared': 0.7365982768274085,\n",
       "  'mse': 0.021447312495640584,\n",
       "  'mutations': ['N:G204R', 'N:R203K', 'S:Q677H']},\n",
       " {'weights': {'N:G204R': 183.15768978780818,\n",
       "   'N:R203K': -182.9337551922942,\n",
       "   'ORF8:E64*': 0.5152227959052228},\n",
       "  'r_squared': 0.7344303643083694,\n",
       "  'mse': 0.02162383335017037,\n",
       "  'mutations': ['N:G204R', 'N:R203K', 'ORF8:E64*']},\n",
       " {'weights': {'N:G204R': 140.27375076264477,\n",
       "   'N:R203K': -139.9191036555001,\n",
       "   'ORF1b:R2257S': 0.3356267464085336},\n",
       "  'r_squared': 0.7307214913394539,\n",
       "  'mse': 0.02192582589833166,\n",
       "  'mutations': ['N:G204R', 'N:R203K', 'ORF1b:R2257S']},\n",
       " {'weights': {'ORF1a:I300F': 0.30299404008378605,\n",
       "   'ORF1b:R2257S': 0.20765858999367046,\n",
       "   'ORF8:E64*': 0.47435570062405036},\n",
       "  'r_squared': 0.7088175291200065,\n",
       "  'mse': 0.023709341651208388,\n",
       "  'mutations': ['ORF1a:I300F', 'ORF1b:R2257S', 'ORF8:E64*']},\n",
       " {'weights': {'N:G204R': 0.3504936239537489,\n",
       "   'ORF1b:R2257S': 0.279818403672277,\n",
       "   'ORF8:E64*': 0.30208148851972527},\n",
       "  'r_squared': 0.7084610070161983,\n",
       "  'mse': 0.023738371229602484,\n",
       "  'mutations': ['N:G204R', 'ORF1b:R2257S', 'ORF8:E64*']},\n",
       " {'weights': {'N:R203K': 0.3502201647508889,\n",
       "   'ORF1b:R2257S': 0.2799594503499212,\n",
       "   'ORF8:E64*': 0.3022980012474724},\n",
       "  'r_squared': 0.7080767191474054,\n",
       "  'mse': 0.02376966161719377,\n",
       "  'mutations': ['N:R203K', 'ORF1b:R2257S', 'ORF8:E64*']},\n",
       " {'weights': {'N:G204R': 0.3864799045193118,\n",
       "   'ORF1b:R2257S': 0.30912421828269093,\n",
       "   'S:Q677H': 0.20644332648300512},\n",
       "  'r_squared': 0.6995766064637527,\n",
       "  'mse': 0.02446177771567124,\n",
       "  'mutations': ['N:G204R', 'ORF1b:R2257S', 'S:Q677H']},\n",
       " {'weights': {'N:R203K': 0.38626618150100256,\n",
       "   'ORF1b:R2257S': 0.30935291901202433,\n",
       "   'S:Q677H': 0.20642381234667506},\n",
       "  'r_squared': 0.6991160735083124,\n",
       "  'mse': 0.02449927630941962,\n",
       "  'mutations': ['N:R203K', 'ORF1b:R2257S', 'S:Q677H']},\n",
       " {'weights': {'N:S194L': 0.31576746781804105,\n",
       "   'ORF1b:R2257S': 0.2416724642857941,\n",
       "   'ORF8:E64*': 0.3628874293875482},\n",
       "  'r_squared': 0.6954259231883209,\n",
       "  'mse': 0.024799744378175895,\n",
       "  'mutations': ['N:S194L', 'ORF1b:R2257S', 'ORF8:E64*']},\n",
       " {'weights': {'N:G204R': 0.3115271738383883,\n",
       "   'N:S194L': 0.2012723142108909,\n",
       "   'ORF1b:R2257S': 0.3328697576742442},\n",
       "  'r_squared': 0.690774087161953,\n",
       "  'mse': 0.02517851707462716,\n",
       "  'mutations': ['N:G204R', 'N:S194L', 'ORF1b:R2257S']},\n",
       " {'weights': {'N:R203K': 0.3110336372774718,\n",
       "   'N:S194L': 0.20170760240672783,\n",
       "   'ORF1b:R2257S': 0.3329814262448795},\n",
       "  'r_squared': 0.6904541836637905,\n",
       "  'mse': 0.02520456500708143,\n",
       "  'mutations': ['N:R203K', 'N:S194L', 'ORF1b:R2257S']},\n",
       " {'weights': {'N:G204R': 0.7511908864145571,\n",
       "   'ORF1a:I300F': -0.32042812430208123,\n",
       "   'ORF1b:R2257S': 0.3932787375487436},\n",
       "  'r_squared': 0.6850917564329333,\n",
       "  'mse': 0.02564119712615064,\n",
       "  'mutations': ['N:G204R', 'ORF1a:I300F', 'ORF1b:R2257S']},\n",
       " {'weights': {'N:R203K': 0.7490694482795657,\n",
       "   'ORF1a:I300F': -0.3181171336769561,\n",
       "   'ORF1b:R2257S': 0.3933834834264018},\n",
       "  'r_squared': 0.6843226118525099,\n",
       "  'mse': 0.02570382421898807,\n",
       "  'mutations': ['N:R203K', 'ORF1a:I300F', 'ORF1b:R2257S']},\n",
       " {'weights': {'ORF1a:I300F': 0.32875578197720834,\n",
       "   'ORF1b:R2257S': 0.25617395349424826,\n",
       "   'S:Q677H': 0.33664712854956164},\n",
       "  'r_squared': 0.6792360987473091,\n",
       "  'mse': 0.02611799021139857,\n",
       "  'mutations': ['ORF1a:I300F', 'ORF1b:R2257S', 'S:Q677H']},\n",
       " {'weights': {'ORF1a:I300F': 0.2540988578790797,\n",
       "   'N:S194L': 0.15891827621519872,\n",
       "   'ORF8:E64*': 0.5427536846215943},\n",
       "  'r_squared': 0.6751481451800362,\n",
       "  'mse': 0.026450849148572347,\n",
       "  'mutations': ['ORF1a:I300F', 'N:S194L', 'ORF8:E64*']},\n",
       " {'weights': {'N:R203K': -0.3801415978795758,\n",
       "   'ORF1a:I300F': 0.6537781812759161,\n",
       "   'ORF8:E64*': 0.7464000815447015},\n",
       "  'r_squared': 0.6746048083927781,\n",
       "  'mse': 0.026495089990000196,\n",
       "  'mutations': ['N:R203K', 'ORF1a:I300F', 'ORF8:E64*']},\n",
       " {'weights': {'N:G204R': -0.373720763158837,\n",
       "   'ORF1a:I300F': 0.6489418732887874,\n",
       "   'ORF8:E64*': 0.7440880538179019},\n",
       "  'r_squared': 0.6741333701113688,\n",
       "  'mse': 0.026533476542760788,\n",
       "  'mutations': ['N:G204R', 'ORF1a:I300F', 'ORF8:E64*']},\n",
       " {'weights': {'N:G204R': 0.4456799038271366,\n",
       "   'ORF1b:R2257S': 0.3678542532430181},\n",
       "  'r_squared': 0.6615566575789416,\n",
       "  'mse': 0.027557527109332302,\n",
       "  'mutations': ['N:G204R', 'ORF1b:R2257S']},\n",
       " {'weights': {'ORF1a:I300F': 0.3561027299643219,\n",
       "   'S:Q677H': 0.05573481474579945,\n",
       "   'ORF8:E64*': 0.5481490557141038},\n",
       "  'r_squared': 0.6611729437174135,\n",
       "  'mse': 0.027588770758758648,\n",
       "  'mutations': ['ORF1a:I300F', 'S:Q677H', 'ORF8:E64*']},\n",
       " {'weights': {'N:R203K': 0.445578518973781,\n",
       "   'ORF1b:R2257S': 0.36806844185251336},\n",
       "  'r_squared': 0.6611152451050945,\n",
       "  'mse': 0.027593468830411586,\n",
       "  'mutations': ['N:R203K', 'ORF1b:R2257S']},\n",
       " {'weights': {'ORF1a:I300F': 0.3530584246508985,\n",
       "   'ORF8:E64*': 0.6060322142412575},\n",
       "  'r_squared': 0.660240659757028,\n",
       "  'mse': 0.02766468136857634,\n",
       "  'mutations': ['ORF1a:I300F', 'ORF8:E64*']},\n",
       " {'weights': {'N:S194L': 0.4236564150225701,\n",
       "   'S:Q677H': -0.3417023776467179,\n",
       "   'ORF8:E64*': 0.8179775187731032},\n",
       "  'r_squared': 0.6576189989225443,\n",
       "  'mse': 0.02787814838199413,\n",
       "  'mutations': ['N:S194L', 'S:Q677H', 'ORF8:E64*']},\n",
       " {'weights': {'N:G204R': 0.21250067455395413,\n",
       "   'N:S194L': 0.23947762858982294,\n",
       "   'ORF8:E64*': 0.44520565234818676},\n",
       "  'r_squared': 0.6562730812965893,\n",
       "  'mse': 0.027987738841652333,\n",
       "  'mutations': ['N:G204R', 'N:S194L', 'ORF8:E64*']},\n",
       " {'weights': {'N:R203K': 0.21164794612988105,\n",
       "   'N:S194L': 0.24004860023791402,\n",
       "   'ORF8:E64*': 0.4454935509450984},\n",
       "  'r_squared': 0.6559913537871042,\n",
       "  'mse': 0.02801067831927522,\n",
       "  'mutations': ['N:R203K', 'N:S194L', 'ORF8:E64*']},\n",
       " {'weights': {'N:G204R': 175.3854737461095,\n",
       "   'N:R203K': -175.1767205608931,\n",
       "   'N:S194L': 0.32275136603582644},\n",
       "  'r_squared': 0.644196434721244,\n",
       "  'mse': 0.028971071865753793,\n",
       "  'mutations': ['N:G204R', 'N:R203K', 'N:S194L']},\n",
       " {'weights': {'N:S194L': 0.3373774093306312,\n",
       "   'ORF1b:R2257S': 0.31408106895789967,\n",
       "   'S:Q677H': 0.15860070898170722},\n",
       "  'r_squared': 0.6406439481325961,\n",
       "  'mse': 0.029260330755504417,\n",
       "  'mutations': ['N:S194L', 'ORF1b:R2257S', 'S:Q677H']},\n",
       " {'weights': {'ORF1a:I300F': 0.13171568337789527,\n",
       "   'N:S194L': 0.3135942511853645,\n",
       "   'ORF1b:R2257S': 0.3345648056747911},\n",
       "  'r_squared': 0.6346231290240378,\n",
       "  'mse': 0.02975057200125496,\n",
       "  'mutations': ['ORF1a:I300F', 'N:S194L', 'ORF1b:R2257S']},\n",
       " {'weights': {'N:S194L': 0.3594286350386922, 'ORF8:E64*': 0.510091189364377},\n",
       "  'r_squared': 0.626852019884353,\n",
       "  'mse': 0.0303833294644525,\n",
       "  'mutations': ['N:S194L', 'ORF8:E64*']},\n",
       " {'weights': {'N:S194L': 0.40625465648019965,\n",
       "   'ORF1b:R2257S': 0.3471066285919966},\n",
       "  'r_squared': 0.6216752342943332,\n",
       "  'mse': 0.030804845834713046,\n",
       "  'mutations': ['N:S194L', 'ORF1b:R2257S']},\n",
       " {'weights': {'N:G204R': 0.3675263058698429,\n",
       "   'S:Q677H': 0.026876719164493332,\n",
       "   'ORF8:E64*': 0.4655491052042006},\n",
       "  'r_squared': 0.6140320628866736,\n",
       "  'mse': 0.03142718605201835,\n",
       "  'mutations': ['N:G204R', 'S:Q677H', 'ORF8:E64*']},\n",
       " {'weights': {'N:G204R': 0.3661072912229495, 'ORF8:E64*': 0.4938602242165001},\n",
       "  'r_squared': 0.6138141557610906,\n",
       "  'mse': 0.031444928996753545,\n",
       "  'mutations': ['N:G204R', 'ORF8:E64*']},\n",
       " {'weights': {'N:R203K': 0.36713012042288073,\n",
       "   'S:Q677H': 0.026382073111126614,\n",
       "   'ORF8:E64*': 0.4664588021958635},\n",
       "  'r_squared': 0.6135409262623429,\n",
       "  'mse': 0.03146717652942753,\n",
       "  'mutations': ['N:R203K', 'S:Q677H', 'ORF8:E64*']},\n",
       " {'weights': {'N:R203K': 0.3657441678980708, 'ORF8:E64*': 0.4942437552249942},\n",
       "  'r_squared': 0.6133309434102545,\n",
       "  'mse': 0.03148427424539242,\n",
       "  'mutations': ['N:R203K', 'ORF8:E64*']},\n",
       " {'weights': {'ORF1a:I300F': 0.37754406040998156,\n",
       "   'N:S194L': 0.04541653190156022,\n",
       "   'S:Q677H': 0.42622763689261683},\n",
       "  'r_squared': 0.599638518914513,\n",
       "  'mse': 0.032599170926575896,\n",
       "  'mutations': ['ORF1a:I300F', 'N:S194L', 'S:Q677H']},\n",
       " {'weights': {'N:G204R': 0.0041944662221578876,\n",
       "   'ORF1a:I300F': 0.40240171161012844,\n",
       "   'S:Q677H': 0.44837562736018943},\n",
       "  'r_squared': 0.5987971799829914,\n",
       "  'mse': 0.03266767639708592,\n",
       "  'mutations': ['N:G204R', 'ORF1a:I300F', 'S:Q677H']},\n",
       " {'weights': {'N:R203K': -0.002050233326375306,\n",
       "   'ORF1a:I300F': 0.4075457510825901,\n",
       "   'S:Q677H': 0.4500842674519409},\n",
       "  'r_squared': 0.5987955374797684,\n",
       "  'mse': 0.032667810136833245,\n",
       "  'mutations': ['N:R203K', 'ORF1a:I300F', 'S:Q677H']},\n",
       " {'weights': {'ORF1a:I300F': 0.40585785162637433,\n",
       "   'S:Q677H': 0.44952310048149413},\n",
       "  'r_squared': 0.5987950232714514,\n",
       "  'mse': 0.03266785200590809,\n",
       "  'mutations': ['ORF1a:I300F', 'S:Q677H']},\n",
       " {'weights': {'N:G204R': 0.33806230205971566,\n",
       "   'N:S194L': 0.1785009452172476,\n",
       "   'S:Q677H': 0.2687365023590216},\n",
       "  'r_squared': 0.5922841499005285,\n",
       "  'mse': 0.03319799559845486,\n",
       "  'mutations': ['N:G204R', 'N:S194L', 'S:Q677H']},\n",
       " {'weights': {'N:R203K': 0.33729335053144094,\n",
       "   'N:S194L': 0.17925323172044708,\n",
       "   'S:Q677H': 0.2685953044450752},\n",
       "  'r_squared': 0.5917886924729401,\n",
       "  'mse': 0.0332383378944345,\n",
       "  'mutations': ['N:R203K', 'N:S194L', 'S:Q677H']},\n",
       " {'weights': {'ORF1b:R2257S': 0.2962314688279837,\n",
       "   'S:Q677H': -0.0022169671236250544,\n",
       "   'ORF8:E64*': 0.5232589106645401},\n",
       "  'r_squared': 0.5833266670680932,\n",
       "  'mse': 0.03392735276122366,\n",
       "  'mutations': ['ORF1b:R2257S', 'S:Q677H', 'ORF8:E64*']},\n",
       " {'weights': {'ORF1b:R2257S': 0.296299139000107,\n",
       "   'ORF8:E64*': 0.5209518272441094},\n",
       "  'r_squared': 0.5833251759794581,\n",
       "  'mse': 0.0339274741721375,\n",
       "  'mutations': ['ORF1b:R2257S', 'ORF8:E64*']},\n",
       " {'weights': {'N:G204R': 0.4412498382912602, 'S:Q677H': 0.33740074282015536},\n",
       "  'r_squared': 0.5726322055686315,\n",
       "  'mse': 0.03479814227235097,\n",
       "  'mutations': ['N:G204R', 'S:Q677H']},\n",
       " {'weights': {'N:G204R': 176.9180378801977,\n",
       "   'N:R203K': -176.29713060377412,\n",
       "   'ORF1a:I300F': -0.18237472551761946},\n",
       "  'r_squared': 0.5722251956591291,\n",
       "  'mse': 0.03483128278719947,\n",
       "  'mutations': ['N:G204R', 'N:R203K', 'ORF1a:I300F']},\n",
       " {'weights': {'N:R203K': 0.4409883259769378, 'S:Q677H': 0.337517198812125},\n",
       "  'r_squared': 0.5719663740580497,\n",
       "  'mse': 0.03485235716625861,\n",
       "  'mutations': ['N:R203K', 'S:Q677H']},\n",
       " {'weights': {'ORF1a:I300F': 0.33677044377395454,\n",
       "   'ORF1b:R2257S': 0.37665421612725536},\n",
       "  'r_squared': 0.5664041173179054,\n",
       "  'mse': 0.035305260272016546,\n",
       "  'mutations': ['ORF1a:I300F', 'ORF1b:R2257S']},\n",
       " {'weights': {'N:G204R': 172.6829777633661, 'N:R203K': -172.23791055119295},\n",
       "  'r_squared': 0.5643444118998484,\n",
       "  'mse': 0.035472970434341826,\n",
       "  'mutations': ['N:G204R', 'N:R203K']},\n",
       " {'weights': {'N:G204R': 0.6048587594857449,\n",
       "   'ORF1a:I300F': -0.3029179275609235,\n",
       "   'N:S194L': 0.3620953729047747},\n",
       "  'r_squared': 0.5535888838141262,\n",
       "  'mse': 0.03634873225219058,\n",
       "  'mutations': ['N:G204R', 'ORF1a:I300F', 'N:S194L']},\n",
       " {'weights': {'N:R203K': 0.6019283073893544,\n",
       "   'ORF1a:I300F': -0.3000804416211575,\n",
       "   'N:S194L': 0.362256007524216},\n",
       "  'r_squared': 0.5527926535200866,\n",
       "  'mse': 0.03641356478148871,\n",
       "  'mutations': ['N:R203K', 'ORF1a:I300F', 'N:S194L']},\n",
       " {'weights': {'N:G204R': 0.34187933680316074, 'N:S194L': 0.3152363054573702},\n",
       "  'r_squared': 0.5333669790460169,\n",
       "  'mse': 0.037995287580663284,\n",
       "  'mutations': ['N:G204R', 'N:S194L']},\n",
       " {'weights': {'N:R203K': 0.3412513899511386, 'N:S194L': 0.315821873970048},\n",
       "  'r_squared': 0.5329341949916717,\n",
       "  'mse': 0.03803052673834561,\n",
       "  'mutations': ['N:R203K', 'N:S194L']},\n",
       " {'weights': {'ORF1b:R2257S': 0.36765112221162116,\n",
       "   'S:Q677H': 0.34750364993194005},\n",
       "  'r_squared': 0.5299785890209685,\n",
       "  'mse': 0.038271185015383964,\n",
       "  'mutations': ['ORF1b:R2257S', 'S:Q677H']},\n",
       " {'weights': {'N:S194L': 0.4050043315448561, 'S:Q677H': 0.272943994858587},\n",
       "  'r_squared': 0.5105865673676774,\n",
       "  'mse': 0.039850167655705745,\n",
       "  'mutations': ['N:S194L', 'S:Q677H']},\n",
       " {'weights': {'ORF1a:I300F': 0.1915715011216648,\n",
       "   'N:S194L': 0.40436436626313194},\n",
       "  'r_squared': 0.4776636212817039,\n",
       "  'mse': 0.04253089694053403,\n",
       "  'mutations': ['ORF1a:I300F', 'N:S194L']},\n",
       " {'weights': {'S:Q677H': -0.0382056036692021, 'ORF8:E64*': 0.7738282411735485},\n",
       "  'r_squared': 0.47736628598256825,\n",
       "  'mse': 0.04255510727218919,\n",
       "  'mutations': ['S:Q677H', 'ORF8:E64*']},\n",
       " {'weights': {'ORF8:E64*': 0.7349117453073717},\n",
       "  'r_squared': 0.476921805633883,\n",
       "  'mse': 0.04259129879296438,\n",
       "  'mutations': ['ORF8:E64*']},\n",
       " {'weights': {'N:G204R': 0.6911756051074005,\n",
       "   'ORF1a:I300F': -0.12298835793891005},\n",
       "  'r_squared': 0.46077157783705003,\n",
       "  'mse': 0.04390632049541352,\n",
       "  'mutations': ['N:G204R', 'ORF1a:I300F']},\n",
       " {'weights': {'N:R203K': 0.6884415685365106,\n",
       "   'ORF1a:I300F': -0.12014906692540413},\n",
       "  'r_squared': 0.4598975138098742,\n",
       "  'mse': 0.043977490585366784,\n",
       "  'mutations': ['N:R203K', 'ORF1a:I300F']},\n",
       " {'weights': {'N:G204R': 0.5705989287704771},\n",
       "  'r_squared': 0.45716050267567065,\n",
       "  'mse': 0.04420034992125977,\n",
       "  'mutations': ['N:G204R']},\n",
       " {'weights': {'N:R203K': 0.5705697890342443},\n",
       "  'r_squared': 0.4564489155515177,\n",
       "  'mse': 0.04425829043598291,\n",
       "  'mutations': ['N:R203K']},\n",
       " {'weights': {'N:S194L': 0.5465029850302775},\n",
       "  'r_squared': 0.4497993265567225,\n",
       "  'mse': 0.04479972885719437,\n",
       "  'mutations': ['N:S194L']},\n",
       " {'weights': {'ORF1b:R2257S': 0.4949221263656863},\n",
       "  'r_squared': 0.4096572381724025,\n",
       "  'mse': 0.0480682720673009,\n",
       "  'mutations': ['ORF1b:R2257S']},\n",
       " {'weights': {'ORF1a:I300F': 0.47604809162953476},\n",
       "  'r_squared': 0.35995060899518017,\n",
       "  'mse': 0.052115601736326185,\n",
       "  'mutations': ['ORF1a:I300F']},\n",
       " {'weights': {'S:Q677H': 0.531980250171569},\n",
       "  'r_squared': 0.34546385979584426,\n",
       "  'mse': 0.053295175785356017,\n",
       "  'mutations': ['S:Q677H']}]"
      ]
     },
     "metadata": {},
     "execution_count": 52
    }
   ],
   "metadata": {
    "colab": {
     "base_uri": "https://localhost:8080/"
    },
    "id": "welcome-fluid",
    "outputId": "ca1c80c1-239d-4f71-9677-a031571601c9"
   }
  },
  {
   "cell_type": "code",
   "execution_count": 53,
   "source": [
    "plotFormattedData(['N:G204R', 'N:R203K', 'S:Q677H'], symptom, limit)"
   ],
   "outputs": [
    {
     "output_type": "display_data",
     "data": {
      "image/png": "[encoded data removed]",
      "text/plain": [
       "<Figure size 1440x720 with 1 Axes>"
      ]
     },
     "metadata": {
      "needs_background": "light"
     }
    }
   ],
   "metadata": {
    "colab": {
     "base_uri": "https://localhost:8080/",
     "height": 592
    },
    "id": "respiratory-access",
    "outputId": "8395b078-f1bd-4ed4-ae98-a11537d52e90"
   }
  },
  {
   "cell_type": "code",
   "execution_count": 54,
   "source": [
    "# performMultipleRegression(['ORF1b'], 'High fever', limit=11)"
   ],
   "outputs": [],
   "metadata": {
    "id": "particular-lewis"
   }
  },
  {
   "cell_type": "code",
   "execution_count": 55,
   "source": [
    "# plotFormattedData(['ORF1b', 'ORF3a'], 'High fever', limit=-1)"
   ],
   "outputs": [],
   "metadata": {
    "id": "optimum-shower"
   }
  },
  {
   "cell_type": "code",
   "execution_count": null,
   "source": [],
   "outputs": [],
   "metadata": {
    "id": "automatic-tournament"
   }
  }
 ],
 "metadata": {
  "colab": {
   "collapsed_sections": [],
   "name": "many_clade_to_one_symptom.ipynb",
   "provenance": []
  },
  "kernelspec": {
   "name": "python3",
   "display_name": "Python 3.7.9 64-bit ('ml': conda)"
  },
  "language_info": {
   "codemirror_mode": {
    "name": "ipython",
    "version": 3
   },
   "file_extension": ".py",
   "mimetype": "text/x-python",
   "name": "python",
   "nbconvert_exporter": "python",
   "pygments_lexer": "ipython3",
   "version": "3.7.9"
  },
  "interpreter": {
   "hash": "6e81d77af03ce5c2f322ee28133a80996b3da90d809d78ecf9dd16de6b5482d3"
  }
 },
 "nbformat": 4,
 "nbformat_minor": 5
}